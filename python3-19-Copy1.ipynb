{
 "cells": [
  {
   "cell_type": "markdown",
   "metadata": {},
   "source": [
    "# 循环的进阶\n",
    "\n",
    "* 循环内部嵌套条件——用来处理大部分问题\n",
    "\n",
    "* 累加与累乘,计数\n",
    "\n",
    "* 循环的终止-break,continue\n",
    "\n",
    "* while 循环/为什么很少用while循环"
   ]
  },
  {
   "cell_type": "code",
   "execution_count": 6,
   "metadata": {},
   "outputs": [
    {
     "name": "stdout",
     "output_type": "stream",
     "text": [
      "1\n",
      "2\n"
     ]
    }
   ],
   "source": [
    "k=3\n",
    "for i in range(1,7):\n",
    "    print(i)\n",
    "    k=k+1\n",
    "    if k==5:\n",
    "        break\n",
    "        #t=6"
   ]
  },
  {
   "cell_type": "code",
   "execution_count": 21,
   "metadata": {},
   "outputs": [
    {
     "name": "stdout",
     "output_type": "stream",
     "text": [
      "3\n",
      "4\n",
      "5\n"
     ]
    }
   ],
   "source": [
    "a=2\n",
    "while a<5:\n",
    "    a=a+1\n",
    "    print(a)"
   ]
  },
  {
   "cell_type": "code",
   "execution_count": 28,
   "metadata": {},
   "outputs": [
    {
     "name": "stdout",
     "output_type": "stream",
     "text": [
      "3\n",
      "4\n",
      "5\n"
     ]
    }
   ],
   "source": [
    "a=2\n",
    "for i in range(0,10):\n",
    "    a=a+1\n",
    "    print(a)\n",
    "    #print(i)\n",
    "    if a>4:break\n",
    "    "
   ]
  },
  {
   "cell_type": "markdown",
   "metadata": {},
   "source": [
    "### 课间题目\n",
    "\n",
    "* 已知a=112；b=42，编程求这两个整数的最小公倍数。（公倍数是能同时整除这两个数的整数；注意两个整数的乘积是一个天然的公倍数）"
   ]
  },
  {
   "cell_type": "code",
   "execution_count": 10,
   "metadata": {},
   "outputs": [
    {
     "name": "stdout",
     "output_type": "stream",
     "text": [
      "336\n"
     ]
    }
   ],
   "source": []
  },
  {
   "cell_type": "markdown",
   "metadata": {},
   "source": [
    "## 格式化输入输出\n",
    "\n",
    "* input\n",
    "* print % 整数为d,浮点数为f,字符串为s，\n",
    "* %5.3f表示一共5位数，小数点后面保留三位"
   ]
  },
  {
   "cell_type": "code",
   "execution_count": 1,
   "metadata": {},
   "outputs": [
    {
     "name": "stdout",
     "output_type": "stream",
     "text": [
      "请输入你的昵称:8888\n",
      "8888\n"
     ]
    },
    {
     "data": {
      "text/plain": [
       "str"
      ]
     },
     "execution_count": 1,
     "metadata": {},
     "output_type": "execute_result"
    }
   ],
   "source": [
    "tn = input(\"请输入你的昵称:\")\n",
    "print(tn)\n",
    "type(tn)#注意输入的始终都是字符串"
   ]
  },
  {
   "cell_type": "code",
   "execution_count": 3,
   "metadata": {},
   "outputs": [
    {
     "name": "stdout",
     "output_type": "stream",
     "text": [
      "aaa8sfpaaa,sfp"
     ]
    }
   ],
   "source": [
    "print(\"aaa\",\"sf\",sep=\"8\",end=\"p\")\n",
    "print(\"aaa\",\"sf\",sep=\",\",end=\"p\")"
   ]
  },
  {
   "cell_type": "code",
   "execution_count": 6,
   "metadata": {
    "scrolled": true
   },
   "outputs": [
    {
     "name": "stdout",
     "output_type": "stream",
     "text": [
      "      3.14\n"
     ]
    }
   ],
   "source": [
    "a=3.14\n",
    "print(\"%10.2f\"%(a))"
   ]
  },
  {
   "cell_type": "code",
   "execution_count": 13,
   "metadata": {},
   "outputs": [
    {
     "name": "stdout",
     "output_type": "stream",
     "text": [
      "iifff\n"
     ]
    }
   ],
   "source": [
    "a=\"fff\"\n",
    "print(\"ii%s\"%(a))"
   ]
  },
  {
   "cell_type": "code",
   "execution_count": 25,
   "metadata": {},
   "outputs": [
    {
     "name": "stdout",
     "output_type": "stream",
     "text": [
      "3\n"
     ]
    }
   ],
   "source": [
    "print(p)"
   ]
  },
  {
   "cell_type": "code",
   "execution_count": 24,
   "metadata": {},
   "outputs": [],
   "source": [
    "p=3"
   ]
  },
  {
   "cell_type": "code",
   "execution_count": 22,
   "metadata": {},
   "outputs": [
    {
     "name": "stdout",
     "output_type": "stream",
     "text": [
      "2\n"
     ]
    }
   ],
   "source": [
    "print(p)"
   ]
  },
  {
   "cell_type": "code",
   "execution_count": 26,
   "metadata": {},
   "outputs": [
    {
     "name": "stdout",
     "output_type": "stream",
     "text": [
      "ee90.004pppfff\n"
     ]
    }
   ],
   "source": [
    "b=90\n",
    "print(\"ee%.2f4ppp%s\"%(b,a))\n",
    "#整数为d,浮点数为f,字符串为s"
   ]
  },
  {
   "cell_type": "markdown",
   "metadata": {},
   "source": [
    "### 课间作业\n",
    "\n",
    "* 请用循环输出如下字符串"
   ]
  },
  {
   "cell_type": "code",
   "execution_count": 4,
   "metadata": {
    "scrolled": true
   },
   "outputs": [
    {
     "name": "stdout",
     "output_type": "stream",
     "text": [
      "iii0.0iii1.0iii2.0iii3.0iii4.0iii5.0"
     ]
    }
   ],
   "source": [
    "for a in range(0,6):\n",
    "\n",
    "    print(\"iii%3.1f\"%a,end=\"\")"
   ]
  },
  {
   "cell_type": "markdown",
   "metadata": {},
   "source": [
    "* 写一个程序输入任意两个值，输出这两个值中小的那个"
   ]
  },
  {
   "cell_type": "code",
   "execution_count": 3,
   "metadata": {},
   "outputs": [
    {
     "name": "stdout",
     "output_type": "stream",
     "text": [
      "我就是要a:2\n",
      "我就是要b:4\n",
      "4\n"
     ]
    }
   ],
   "source": [
    "a=eval(input('我就是要a:'))\n",
    "b=eval(input('我就是要b:'))\n",
    "print(max(a,b))"
   ]
  },
  {
   "cell_type": "markdown",
   "metadata": {},
   "source": [
    "* 请通过循环完成如下输入与输出"
   ]
  },
  {
   "cell_type": "code",
   "execution_count": 6,
   "metadata": {},
   "outputs": [
    {
     "name": "stdout",
     "output_type": "stream",
     "text": [
      "aaa:2\n",
      "第1次为2\n",
      "aaa:2\n",
      "第2次为2\n",
      "aaa:2\n",
      "第3次为2\n"
     ]
    }
   ],
   "source": [
    "for i in range(1,4):\n",
    "    aaa=eval(input(\"aaa:\"))\n",
    "    print(\"第\",i,\"次为\",aaa,sep=\"\")\n"
   ]
  },
  {
   "cell_type": "markdown",
   "metadata": {},
   "source": [
    "## 函数def...return\n",
    "\n",
    "* 自定义函数的语法\n",
    "* 作用域\n",
    "* global\n",
    "* 循环return"
   ]
  },
  {
   "cell_type": "code",
   "execution_count": 29,
   "metadata": {},
   "outputs": [
    {
     "name": "stdout",
     "output_type": "stream",
     "text": [
      "5\n"
     ]
    }
   ],
   "source": [
    "def jia(x,y):\n",
    "    c=x+y\n",
    "    return c\n",
    "\n",
    "print(jia(1,4))"
   ]
  },
  {
   "cell_type": "code",
   "execution_count": 30,
   "metadata": {},
   "outputs": [
    {
     "name": "stdout",
     "output_type": "stream",
     "text": [
      "9\n"
     ]
    }
   ],
   "source": [
    "print(jia(3,6))"
   ]
  },
  {
   "cell_type": "code",
   "execution_count": 34,
   "metadata": {},
   "outputs": [
    {
     "name": "stdout",
     "output_type": "stream",
     "text": [
      "16\n"
     ]
    },
    {
     "ename": "NameError",
     "evalue": "name 'c' is not defined",
     "output_type": "error",
     "traceback": [
      "\u001b[1;31m---------------------------------------------------------------------------\u001b[0m",
      "\u001b[1;31mNameError\u001b[0m                                 Traceback (most recent call last)",
      "\u001b[1;32m<ipython-input-34-3ee18e279110>\u001b[0m in \u001b[0;36m<module>\u001b[1;34m()\u001b[0m\n\u001b[0;32m      5\u001b[0m \u001b[1;33m\u001b[0m\u001b[0m\n\u001b[0;32m      6\u001b[0m \u001b[0mprint\u001b[0m\u001b[1;33m(\u001b[0m\u001b[0mak\u001b[0m\u001b[1;33m(\u001b[0m\u001b[1;36m3\u001b[0m\u001b[1;33m)\u001b[0m\u001b[1;33m)\u001b[0m\u001b[1;33m\u001b[0m\u001b[0m\n\u001b[1;32m----> 7\u001b[1;33m \u001b[0mprint\u001b[0m\u001b[1;33m(\u001b[0m\u001b[0mc\u001b[0m\u001b[1;33m)\u001b[0m\u001b[1;33m\u001b[0m\u001b[0m\n\u001b[0m",
      "\u001b[1;31mNameError\u001b[0m: name 'c' is not defined"
     ]
    }
   ],
   "source": [
    "a=4\n",
    "def ak(x):\n",
    "    c=9\n",
    "    return a+x+c\n",
    "\n",
    "print(ak(3))\n",
    "print(c)"
   ]
  },
  {
   "cell_type": "code",
   "execution_count": 36,
   "metadata": {},
   "outputs": [
    {
     "name": "stdout",
     "output_type": "stream",
     "text": [
      "16\n",
      "9\n"
     ]
    }
   ],
   "source": [
    "a=4\n",
    "def ak(x):\n",
    "    global c#定义c为全局变量，原则上并不推荐定义全局变量\n",
    "    c=9\n",
    "    return a+x+c\n",
    "\n",
    "print(ak(3))\n",
    "print(c)"
   ]
  },
  {
   "cell_type": "code",
   "execution_count": 30,
   "metadata": {},
   "outputs": [
    {
     "name": "stdout",
     "output_type": "stream",
     "text": [
      "x<4\n"
     ]
    }
   ],
   "source": [
    "#return本质上不仅能终止函数，而且能起到break的作业\n",
    "def ao(x):\n",
    "    for i in range(1,x):\n",
    "        if i==3:\n",
    "            return \"x>3\"\n",
    "    return \"x<4\"\n",
    "\n",
    "print(ao(3))"
   ]
  },
  {
   "cell_type": "code",
   "execution_count": 10,
   "metadata": {},
   "outputs": [
    {
     "name": "stdout",
     "output_type": "stream",
     "text": [
      "x>3\n"
     ]
    }
   ],
   "source": [
    "#return本质上不仅能终止函数，而且能起到break的作业\n",
    "def ao(x):\n",
    "    for i in range(1,x):\n",
    "        if i==3:\n",
    "            return \"x>3\"\n",
    "    return \"x<4\"\n",
    "\n",
    "print(ao(4))"
   ]
  },
  {
   "cell_type": "markdown",
   "metadata": {},
   "source": [
    "### 课堂题目\n",
    "\n",
    "* 自己定义一个函数，输入任意两个数，始终返回其中大的那个数\n",
    "\n",
    "* 自己定义一个函数， 输入任意两个整数， 返回这两个整数的最小公倍数"
   ]
  },
  {
   "cell_type": "code",
   "execution_count": 15,
   "metadata": {},
   "outputs": [
    {
     "name": "stdout",
     "output_type": "stream",
     "text": [
      "4\n"
     ]
    }
   ],
   "source": [
    "def ak(i,j):\n",
    "    if i>=j:\n",
    "        return i\n",
    "    return j\n",
    "print(ak(3,4))"
   ]
  },
  {
   "cell_type": "markdown",
   "metadata": {},
   "source": [
    "## 作业"
   ]
  },
  {
   "cell_type": "markdown",
   "metadata": {},
   "source": [
    "* 利用条件运算符来完成此题。输入（input）任意成绩，程序按照如下规则输出：学习成绩>=90分的同学用A表示，60-89分之间的用B表示，60分以下的用C表示。"
   ]
  },
  {
   "cell_type": "code",
   "execution_count": null,
   "metadata": {},
   "outputs": [],
   "source": [
    "i=eval(input(''))\n",
    "if i<60:\n",
    "    print(\"C\")\n",
    "elif i<90:\n",
    "    print(\"B\")\n",
    "else:\n",
    "    print(\"A\")"
   ]
  },
  {
   "cell_type": "markdown",
   "metadata": {},
   "source": [
    "* 输入a和n（用input），求s=a+aa+aaa+...na...，a表示数值，n表示数量，如a=3，n=5，则求出3+33+333+3333+33333的值（注意字符串与整数的转换）"
   ]
  },
  {
   "cell_type": "code",
   "execution_count": null,
   "metadata": {},
   "outputs": [],
   "source": [
    "a,n=input('')\n",
    "for i in range(1,n+1):\n",
    "    for j in range(1,i+1):\n",
    "        b='%s'%a+b\n",
    "    s=b+s\n",
    "        ?"
   ]
  },
  {
   "cell_type": "markdown",
   "metadata": {},
   "source": [
    "* 打印出所有的三位数中的“水仙花数”，所谓“水仙花数”是指一个三位数，其各位数字立方和等于该数本身。例如：153是一个“水仙花数”，因为153=1^3＋5^3＋3^3的三次方。 "
   ]
  },
  {
   "cell_type": "markdown",
   "metadata": {},
   "source": []
  },
  {
   "cell_type": "markdown",
   "metadata": {},
   "source": [
    "* 写一个函数，此函数能够返回任意两个整数的最大公约数"
   ]
  },
  {
   "cell_type": "code",
   "execution_count": null,
   "metadata": {},
   "outputs": [],
   "source": []
  }
 ],
 "metadata": {
  "kernelspec": {
   "display_name": "Python 3",
   "language": "python",
   "name": "python3"
  },
  "language_info": {
   "codemirror_mode": {
    "name": "ipython",
    "version": 3
   },
   "file_extension": ".py",
   "mimetype": "text/x-python",
   "name": "python",
   "nbconvert_exporter": "python",
   "pygments_lexer": "ipython3",
   "version": "3.7.0"
  }
 },
 "nbformat": 4,
 "nbformat_minor": 2
}
