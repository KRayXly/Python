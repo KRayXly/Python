{
 "cells": [
  {
   "cell_type": "markdown",
   "metadata": {},
   "source": [
    "## 上次作业"
   ]
  },
  {
   "cell_type": "code",
   "execution_count": null,
   "metadata": {},
   "outputs": [],
   "source": []
  },
  {
   "cell_type": "markdown",
   "metadata": {},
   "source": [
    "## 函数def...return\n",
    "\n",
    "* 格式 def return \n",
    "* 作用域\n",
    "* 怎么写函数"
   ]
  },
  {
   "cell_type": "code",
   "execution_count": null,
   "metadata": {},
   "outputs": [],
   "source": []
  },
  {
   "cell_type": "markdown",
   "metadata": {},
   "source": [
    "## 列表与循环\n",
    "\n",
    "* 基于元素的循环与基于索引的循环\n",
    "\n"
   ]
  },
  {
   "cell_type": "code",
   "execution_count": 14,
   "metadata": {},
   "outputs": [
    {
     "name": "stdout",
     "output_type": "stream",
     "text": [
      "2\n",
      "1\n",
      "5\n",
      "2\n",
      "8\n",
      "10\n"
     ]
    }
   ],
   "source": [
    "for i in a:\n",
    "    print i"
   ]
  },
  {
   "cell_type": "code",
   "execution_count": 15,
   "metadata": {},
   "outputs": [
    {
     "name": "stdout",
     "output_type": "stream",
     "text": [
      "2\n",
      "1\n",
      "5\n",
      "2\n",
      "8\n",
      "10\n"
     ]
    }
   ],
   "source": [
    "for i in range(0,len(a)):\n",
    "    print a[i]"
   ]
  },
  {
   "cell_type": "code",
   "execution_count": 2,
   "metadata": {},
   "outputs": [
    {
     "name": "stdout",
     "output_type": "stream",
     "text": [
      "3\n",
      "6\n",
      "6\n",
      "11\n"
     ]
    }
   ],
   "source": [
    "a=[1,2,3,4]\n",
    "b=[2,4,3,7]\n",
    "for i in range(0,len(a)):\n",
    "    print(a[i]+b[i])"
   ]
  },
  {
   "cell_type": "markdown",
   "metadata": {},
   "source": [
    "## 课间题"
   ]
  },
  {
   "cell_type": "markdown",
   "metadata": {},
   "source": [
    "* 已知\n",
    "a=[1,2,3,4]\n",
    "b=[2,4,3,7]\n",
    "把a,b中对应元素相乘求和"
   ]
  },
  {
   "cell_type": "code",
   "execution_count": null,
   "metadata": {},
   "outputs": [],
   "source": []
  },
  {
   "cell_type": "markdown",
   "metadata": {},
   "source": [
    "* 请自定义一个函数，此函数的功能是给定一个列表得出此列表的最大值（功能和max函数一样，但是这里是让你不用max函数自己编写一个函数）"
   ]
  },
  {
   "cell_type": "code",
   "execution_count": 6,
   "metadata": {},
   "outputs": [
    {
     "name": "stdout",
     "output_type": "stream",
     "text": [
      "22\n"
     ]
    }
   ],
   "source": []
  },
  {
   "cell_type": "markdown",
   "metadata": {},
   "source": [
    "* 移动平均法是一种时间序列预测方法，这种方法认为下个时刻的量为之前n个量的平均值，假设有数列[a1,a2,a3,a4],其对应的n=2的移动平均值序列就是[a1+a2/2,a2+a3/2,a3+a4/2],请写一个函数求任意列表的n=3的移动平均值序列"
   ]
  },
  {
   "cell_type": "code",
   "execution_count": 13,
   "metadata": {},
   "outputs": [
    {
     "name": "stdout",
     "output_type": "stream",
     "text": [
      "[3.5, 5.0]\n",
      "[2, 3, 4]\n"
     ]
    }
   ],
   "source": []
  },
  {
   "cell_type": "markdown",
   "metadata": {},
   "source": [
    "## 列表（list）2"
   ]
  },
  {
   "cell_type": "markdown",
   "metadata": {},
   "source": [
    "* 列表的逻辑运算： in ,not in\n",
    "* 列表与循环——迭代器\n",
    "* enumerate（） ——同时输出元素与位置的例题"
   ]
  },
  {
   "cell_type": "code",
   "execution_count": 14,
   "metadata": {},
   "outputs": [
    {
     "name": "stdout",
     "output_type": "stream",
     "text": [
      "False False True\n"
     ]
    }
   ],
   "source": [
    "a=[2,12,1]\n",
    "print 3 in a,1 not in a,2 in a"
   ]
  },
  {
   "cell_type": "code",
   "execution_count": 21,
   "metadata": {},
   "outputs": [
    {
     "name": "stdout",
     "output_type": "stream",
     "text": [
      "1\n",
      "2\n"
     ]
    }
   ],
   "source": [
    "for i in a:\n",
    "    print i"
   ]
  },
  {
   "cell_type": "code",
   "execution_count": 15,
   "metadata": {},
   "outputs": [
    {
     "name": "stdout",
     "output_type": "stream",
     "text": [
      "[2, 12, 1]\n"
     ]
    }
   ],
   "source": [
    "if 2 not in a:\n",
    "    a.append(3)\n",
    "print a"
   ]
  },
  {
   "cell_type": "code",
   "execution_count": 11,
   "metadata": {},
   "outputs": [
    {
     "name": "stdout",
     "output_type": "stream",
     "text": [
      "0 2\n",
      "1 5\n",
      "2 1\n"
     ]
    }
   ],
   "source": [
    "a=[2,5,1]\n",
    "for i,j in enumerate(a):\n",
    "    print i,j"
   ]
  },
  {
   "cell_type": "code",
   "execution_count": 24,
   "metadata": {},
   "outputs": [
    {
     "data": {
      "text/plain": [
       "<enumerate at 0xb0e8b88>"
      ]
     },
     "execution_count": 24,
     "metadata": {},
     "output_type": "execute_result"
    }
   ],
   "source": [
    "enumerate(a)"
   ]
  },
  {
   "cell_type": "markdown",
   "metadata": {},
   "source": [
    "* 列表的嵌套——构建更复杂的数据结构\n",
    "* 嵌套下的循环"
   ]
  },
  {
   "cell_type": "code",
   "execution_count": 18,
   "metadata": {},
   "outputs": [
    {
     "name": "stdout",
     "output_type": "stream",
     "text": [
      "3\n",
      "1\n",
      "3\n"
     ]
    }
   ],
   "source": [
    "a=[[3,1],[1,4],[3]]\n",
    "for i in a:\n",
    "    print i[0]"
   ]
  },
  {
   "cell_type": "code",
   "execution_count": 16,
   "metadata": {},
   "outputs": [
    {
     "name": "stdout",
     "output_type": "stream",
     "text": [
      "[7, 4] 4 [2, 3]\n"
     ]
    }
   ],
   "source": [
    "a=[[7,4],[2,5,6],[2,3]]\n",
    "print a[0],a[0][1],a[2]"
   ]
  },
  {
   "cell_type": "code",
   "execution_count": null,
   "metadata": {
    "collapsed": true
   },
   "outputs": [],
   "source": []
  },
  {
   "cell_type": "markdown",
   "metadata": {},
   "source": [
    "## 作为列表的字符串"
   ]
  },
  {
   "cell_type": "markdown",
   "metadata": {},
   "source": [
    "* 继承列表方法与函数\n",
    "* 字符串特有的方法： split(),join()， replace(),find()\n",
    "* 基于字符串的循环"
   ]
  },
  {
   "cell_type": "code",
   "execution_count": 21,
   "metadata": {},
   "outputs": [],
   "source": [
    "a=\"amkbaba117-\""
   ]
  },
  {
   "cell_type": "code",
   "execution_count": 22,
   "metadata": {},
   "outputs": [
    {
     "name": "stdout",
     "output_type": "stream",
     "text": [
      "11 m -\n"
     ]
    }
   ],
   "source": [
    "print len(a),max(a),min(a)"
   ]
  },
  {
   "cell_type": "code",
   "execution_count": 16,
   "metadata": {},
   "outputs": [
    {
     "name": "stdout",
     "output_type": "stream",
     "text": [
      "b ami mb amib\n"
     ]
    }
   ],
   "source": [
    "print a[3],a[0:3],a[1:5:2],a[0:4]"
   ]
  },
  {
   "cell_type": "code",
   "execution_count": 23,
   "metadata": {},
   "outputs": [
    {
     "data": {
      "text/plain": [
       "2"
      ]
     },
     "execution_count": 23,
     "metadata": {},
     "output_type": "execute_result"
    }
   ],
   "source": [
    "a.count(\"b\")"
   ]
  },
  {
   "cell_type": "code",
   "execution_count": 25,
   "metadata": {},
   "outputs": [
    {
     "name": "stdout",
     "output_type": "stream",
     "text": [
      "['', 'mkb', 'b', '117-']\n",
      "['amk', 'a', 'a117-']\n",
      "amk\n",
      "['b', 'b', '117-']\n"
     ]
    }
   ],
   "source": [
    "a=\"amkbaba117-\"\n",
    "print a.split(\"a\")\n",
    "print a.split(\"b\")\n",
    "print a.split(\"b\")[0]\n",
    "print a.split(\"k\")[1].split(\"a\")\n",
    "#print a"
   ]
  },
  {
   "cell_type": "code",
   "execution_count": 21,
   "metadata": {},
   "outputs": [
    {
     "name": "stdout",
     "output_type": "stream",
     "text": [
      "['3', 'a']\n",
      "3a 1g2g3\n"
     ]
    }
   ],
   "source": [
    "b=[\"3\",\"a\"]\n",
    "print b\n",
    "print \"\".join(b),\"g\".join([\"1\",\"2\",\"3\"])"
   ]
  },
  {
   "cell_type": "code",
   "execution_count": 5,
   "metadata": {},
   "outputs": [
    {
     "name": "stdout",
     "output_type": "stream",
     "text": [
      "wanpen\n"
     ]
    }
   ],
   "source": [
    "a=\"wangpeng\"\n",
    "print (a.replace(\"g\",\"\"))"
   ]
  },
  {
   "cell_type": "code",
   "execution_count": 3,
   "metadata": {},
   "outputs": [
    {
     "name": "stdout",
     "output_type": "stream",
     "text": [
      "3\n"
     ]
    }
   ],
   "source": [
    "a=\"wangpeng\"\n",
    "print (a.find(\"g\"))"
   ]
  },
  {
   "cell_type": "code",
   "execution_count": 24,
   "metadata": {},
   "outputs": [
    {
     "name": "stdout",
     "output_type": "stream",
     "text": [
      "w\n",
      "a\n",
      "n\n",
      "g\n",
      " \n",
      "p\n",
      " \n",
      "e\n",
      "n\n",
      "g\n",
      "1\n",
      "0\n",
      "9\n"
     ]
    }
   ],
   "source": [
    "for i in a:\n",
    "    print i"
   ]
  },
  {
   "cell_type": "markdown",
   "metadata": {},
   "source": [
    "# 文字统计题"
   ]
  },
  {
   "cell_type": "code",
   "execution_count": 2,
   "metadata": {},
   "outputs": [
    {
     "name": "stdout",
     "output_type": "stream",
     "text": [
      "Across the oceans Across the seas, Over forests of blackened trees. Through valleys so still we dare not breathe, To be by your side. Over the shifting desert plains, Across mountains all in flames. Through howling winds and driving rains, To be by your side. Every mile and every year for every one a little tear. I cannot explain this, Dear, I will not even try. Into the night as the stars collide, Across the borders that divide forests of stone standing petrified, To be by your side. Every mile and every year, For every one a single tear. I cannot explain this, Dear, I will not even try. For I know one thing, Love comes on a wing. For tonight I will be by your side. But tomorrow I will fly. From the deepest ocean To the highest peak, Through the frontiers of your sleep. Into the valley where we dare not speak, To be by your side. Across the endless wilderness where all the beasts bow down their heads. Darling I will never rest till I am by your side. Every mile and every year, Time and Distance disappear I cannot explain this. Dear No, I will not even try. And I know just one thing, Love comes on a wing and tonight I will be by your side. But tomorrow I will fly away, Love rises with the day and tonight I may be by your side. But tomorrow I will fly, Tomorrow I will fly, Tomorrow I will fly.\n"
     ]
    }
   ],
   "source": [
    "#首先运行如下命令，把歌词作为一个字符串赋值给a\n",
    "a=\"Across the oceans Across the seas, Over forests of blackened trees. Through valleys so still we dare not breathe, To be by your side. Over the shifting desert plains, Across mountains all in flames. Through howling winds and driving rains, To be by your side. Every mile and every year for every one a little tear. I cannot explain this, Dear, I will not even try. Into the night as the stars collide, Across the borders that divide forests of stone standing petrified, To be by your side. Every mile and every year, For every one a single tear. I cannot explain this, Dear, I will not even try. For I know one thing, Love comes on a wing. For tonight I will be by your side. But tomorrow I will fly. From the deepest ocean To the highest peak, Through the frontiers of your sleep. Into the valley where we dare not speak, To be by your side. Across the endless wilderness where all the beasts bow down their heads. Darling I will never rest till I am by your side. Every mile and every year, Time and Distance disappear I cannot explain this. Dear No, I will not even try. And I know just one thing, Love comes on a wing and tonight I will be by your side. But tomorrow I will fly away, Love rises with the day and tonight I may be by your side. But tomorrow I will fly, Tomorrow I will fly, Tomorrow I will fly.\"\n",
    "print(a)"
   ]
  },
  {
   "cell_type": "code",
   "execution_count": 2,
   "metadata": {},
   "outputs": [
    {
     "name": "stdout",
     "output_type": "stream",
     "text": [
      "1313\n"
     ]
    }
   ],
   "source": [
    "#计算a的字符数\n"
   ]
  },
  {
   "cell_type": "code",
   "execution_count": 8,
   "metadata": {},
   "outputs": [
    {
     "name": "stdout",
     "output_type": "stream",
     "text": [
      "1313\n"
     ]
    }
   ],
   "source": [
    "a=\"Across the oceans Across the seas, Over forests of blackened trees. Through valleys so still we dare not breathe, To be by your side. Over the shifting desert plains, Across mountains all in flames. Through howling winds and driving rains, To be by your side. Every mile and every year for every one a little tear. I cannot explain this, Dear, I will not even try. Into the night as the stars collide, Across the borders that divide forests of stone standing petrified, To be by your side. Every mile and every year, For every one a single tear. I cannot explain this, Dear, I will not even try. For I know one thing, Love comes on a wing. For tonight I will be by your side. But tomorrow I will fly. From the deepest ocean To the highest peak, Through the frontiers of your sleep. Into the valley where we dare not speak, To be by your side. Across the endless wilderness where all the beasts bow down their heads. Darling I will never rest till I am by your side. Every mile and every year, Time and Distance disappear I cannot explain this. Dear No, I will not even try. And I know just one thing, Love comes on a wing and tonight I will be by your side. But tomorrow I will fly away, Love rises with the day and tonight I may be by your side. But tomorrow I will fly, Tomorrow I will fly, Tomorrow I will fly.\"\n",
    "num=0\n",
    "j=\"\"\n",
    "for i in range(0,len(a)):\n",
    "    j=a[i]\n",
    "    if j==\"a\" or \"A\":\n",
    "        num+=1\n",
    "print(num)"
   ]
  },
  {
   "cell_type": "code",
   "execution_count": 3,
   "metadata": {},
   "outputs": [
    {
     "name": "stdout",
     "output_type": "stream",
     "text": [
      "Across the oceans Ac\n"
     ]
    }
   ],
   "source": [
    "#切片输出a的前二十个字符\n"
   ]
  },
  {
   "cell_type": "code",
   "execution_count": 9,
   "metadata": {},
   "outputs": [
    {
     "name": "stdout",
     "output_type": "stream",
     "text": [
      "Across the oceans Ac\n"
     ]
    }
   ],
   "source": [
    "print(a[:20:])"
   ]
  },
  {
   "cell_type": "code",
   "execution_count": 5,
   "metadata": {},
   "outputs": [
    {
     "name": "stdout",
     "output_type": "stream",
     "text": [
      "A\n",
      "c\n",
      "r\n",
      "o\n",
      "s\n",
      "s\n",
      " \n",
      "t\n",
      "h\n",
      "e\n",
      " \n",
      "o\n",
      "c\n",
      "e\n",
      "a\n",
      "n\n",
      "s\n",
      " \n",
      "A\n",
      "c\n"
     ]
    }
   ],
   "source": [
    "#分行输出上题的字符\n"
   ]
  },
  {
   "cell_type": "code",
   "execution_count": 10,
   "metadata": {},
   "outputs": [
    {
     "name": "stdout",
     "output_type": "stream",
     "text": [
      "A\n",
      "c\n",
      "r\n",
      "o\n",
      "s\n",
      "s\n",
      " \n",
      "t\n",
      "h\n",
      "e\n",
      " \n",
      "o\n",
      "c\n",
      "e\n",
      "a\n",
      "n\n",
      "s\n",
      " \n",
      "A\n",
      "c\n"
     ]
    }
   ],
   "source": [
    "k=a[:20:]\n",
    "for i in k:\n",
    "    print(i)"
   ]
  },
  {
   "cell_type": "code",
   "execution_count": 6,
   "metadata": {},
   "outputs": [
    {
     "name": "stdout",
     "output_type": "stream",
     "text": [
      "['A', 'c', 'r', 'o', 's', 's', ' ', 't', 'h', 'e', ' ', 'o', 'c', 'e', 'a', 'n', 's', ' ', 'A', 'c']\n"
     ]
    }
   ],
   "source": [
    "#把上述字符组成一个列表b\n"
   ]
  },
  {
   "cell_type": "code",
   "execution_count": 11,
   "metadata": {},
   "outputs": [
    {
     "name": "stdout",
     "output_type": "stream",
     "text": [
      "['A', 'c', 'r', 'o', 's', 's', ' ', 't', 'h', 'e', ' ', 'o', 'c', 'e', 'a', 'n', 's', ' ', 'A', 'c']\n"
     ]
    }
   ],
   "source": [
    "b=[]\n",
    "for i in k:\n",
    "    b+=i\n",
    "print(b)"
   ]
  },
  {
   "cell_type": "code",
   "execution_count": 7,
   "metadata": {},
   "outputs": [
    {
     "data": {
      "text/plain": [
       "57"
      ]
     },
     "execution_count": 7,
     "metadata": {},
     "output_type": "execute_result"
    }
   ],
   "source": [
    "#已知列表的count()方法可以计算列表中元素的数量，比如字符\"a\"在文本a中的数量\n"
   ]
  },
  {
   "cell_type": "code",
   "execution_count": 12,
   "metadata": {},
   "outputs": [
    {
     "name": "stdout",
     "output_type": "stream",
     "text": [
      "57\n"
     ]
    }
   ],
   "source": [
    "print(a.count(\"a\"))"
   ]
  },
  {
   "cell_type": "code",
   "execution_count": 13,
   "metadata": {},
   "outputs": [
    {
     "name": "stdout",
     "output_type": "stream",
     "text": [
      "Across the oceans Across the seas Over forests of blackened trees Through valleys so still we dare not breathe To be by your side Over the shifting desert plains Across mountains all in flames Through howling winds and driving rains To be by your side Every mile and every year for every one a little tear I cannot explain this Dear I will not even try Into the night as the stars collide Across the borders that divide forests of stone standing petrified To be by your side Every mile and every year For every one a single tear I cannot explain this Dear I will not even try For I know one thing Love comes on a wing For tonight I will be by your side But tomorrow I will fly From the deepest ocean To the highest peak Through the frontiers of your sleep Into the valley where we dare not speak To be by your side Across the endless wilderness where all the beasts bow down their heads Darling I will never rest till I am by your side Every mile and every year Time and Distance disappear I cannot explain this Dear No I will not even try And I know just one thing Love comes on a wing and tonight I will be by your side But tomorrow I will fly away Love rises with the day and tonight I may be by your side But tomorrow I will fly Tomorrow I will fly Tomorrow I will fly\n"
     ]
    }
   ],
   "source": [
    "#巧用replace方法，清除掉文本中的标点\n"
   ]
  },
  {
   "cell_type": "code",
   "execution_count": 14,
   "metadata": {},
   "outputs": [
    {
     "name": "stdout",
     "output_type": "stream",
     "text": [
      "Across the oceans Across the seas Over forests of blackened trees Through valleys so still we dare not breathe To be by your side Over the shifting desert plains Across mountains all in flames Through howling winds and driving rains To be by your side Every mile and every year for every one a little tear I cannot explain this Dear I will not even try Into the night as the stars collide Across the borders that divide forests of stone standing petrified To be by your side Every mile and every year For every one a single tear I cannot explain this Dear I will not even try For I know one thing Love comes on a wing For tonight I will be by your side But tomorrow I will fly From the deepest ocean To the highest peak Through the frontiers of your sleep Into the valley where we dare not speak To be by your side Across the endless wilderness where all the beasts bow down their heads Darling I will never rest till I am by your side Every mile and every year Time and Distance disappear I cannot explain this Dear No I will not even try And I know just one thing Love comes on a wing and tonight I will be by your side But tomorrow I will fly away Love rises with the day and tonight I may be by your side But tomorrow I will fly Tomorrow I will fly Tomorrow I will fly\n"
     ]
    }
   ],
   "source": [
    "c=a.replace(\".\",\"\")\n",
    "d=c.replace(\",\",\"\")\n",
    "print(d)"
   ]
  },
  {
   "cell_type": "code",
   "execution_count": 14,
   "metadata": {},
   "outputs": [
    {
     "name": "stdout",
     "output_type": "stream",
     "text": [
      "['Across', 'the', 'oceans', 'Across', 'the', 'seas', 'Over', 'forests', 'of', 'blackened', 'trees', 'Through', 'valleys', 'so', 'still', 'we', 'dare', 'not', 'breathe', 'To', 'be', 'by', 'your', 'side', 'Over', 'the', 'shifting', 'desert', 'plains', 'Across', 'mountains', 'all', 'in', 'flames', 'Through', 'howling', 'winds', 'and', 'driving', 'rains', 'To', 'be', 'by', 'your', 'side', 'Every', 'mile', 'and', 'every', 'year', 'for', 'every', 'one', 'a', 'little', 'tear', 'I', 'cannot', 'explain', 'this', 'Dear', 'I', 'will', 'not', 'even', 'try', 'Into', 'the', 'night', 'as', 'the', 'stars', 'collide', 'Across', 'the', 'borders', 'that', 'divide', 'forests', 'of', 'stone', 'standing', 'petrified', 'To', 'be', 'by', 'your', 'side', 'Every', 'mile', 'and', 'every', 'year', 'For', 'every', 'one', 'a', 'single', 'tear', 'I', 'cannot', 'explain', 'this', 'Dear', 'I', 'will', 'not', 'even', 'try', 'For', 'I', 'know', 'one', 'thing', 'Love', 'comes', 'on', 'a', 'wing', 'For', 'tonight', 'I', 'will', 'be', 'by', 'your', 'side', 'But', 'tomorrow', 'I', 'will', 'fly', 'From', 'the', 'deepest', 'ocean', 'To', 'the', 'highest', 'peak', 'Through', 'the', 'frontiers', 'of', 'your', 'sleep', 'Into', 'the', 'valley', 'where', 'we', 'dare', 'not', 'speak', 'To', 'be', 'by', 'your', 'side', 'Across', 'the', 'endless', 'wilderness', 'where', 'all', 'the', 'beasts', 'bow', 'down', 'their', 'heads', 'Darling', 'I', 'will', 'never', 'rest', 'till', 'I', 'am', 'by', 'your', 'side', 'Every', 'mile', 'and', 'every', 'year', 'Time', 'and', 'Distance', 'disappear', 'I', 'cannot', 'explain', 'this', 'Dear', 'No', 'I', 'will', 'not', 'even', 'try', 'And', 'I', 'know', 'just', 'one', 'thing', 'Love', 'comes', 'on', 'a', 'wing', 'and', 'tonight', 'I', 'will', 'be', 'by', 'your', 'side', 'But', 'tomorrow', 'I', 'will', 'fly', 'away', 'Love', 'rises', 'with', 'the', 'day', 'and', 'tonight', 'I', 'may', 'be', 'by', 'your', 'side', 'But', 'tomorrow', 'I', 'will', 'fly', 'Tomorrow', 'I', 'will', 'fly', 'Tomorrow', 'I', 'will', 'fly']\n"
     ]
    }
   ],
   "source": [
    "#把文本的内容以单词为单位构建列表\n"
   ]
  },
  {
   "cell_type": "code",
   "execution_count": 20,
   "metadata": {},
   "outputs": [
    {
     "name": "stdout",
     "output_type": "stream",
     "text": [
      "['Across', 'the', 'oceans', 'Across', 'the', 'seas', 'Over', 'forests', 'of', 'blackened', 'trees', 'Through', 'valleys', 'so', 'still', 'we', 'dare', 'not', 'breathe', 'To', 'be', 'by', 'your', 'side', 'Over', 'the', 'shifting', 'desert', 'plains', 'Across', 'mountains', 'all', 'in', 'flames', 'Through', 'howling', 'winds', 'and', 'driving', 'rains', 'To', 'be', 'by', 'your', 'side', 'Every', 'mile', 'and', 'every', 'year', 'for', 'every', 'one', 'a', 'little', 'tear', 'I', 'cannot', 'explain', 'this', 'Dear', 'I', 'will', 'not', 'even', 'try', 'Into', 'the', 'night', 'as', 'the', 'stars', 'collide', 'Across', 'the', 'borders', 'that', 'divide', 'forests', 'of', 'stone', 'standing', 'petrified', 'To', 'be', 'by', 'your', 'side', 'Every', 'mile', 'and', 'every', 'year', 'For', 'every', 'one', 'a', 'single', 'tear', 'I', 'cannot', 'explain', 'this', 'Dear', 'I', 'will', 'not', 'even', 'try', 'For', 'I', 'know', 'one', 'thing', 'Love', 'comes', 'on', 'a', 'wing', 'For', 'tonight', 'I', 'will', 'be', 'by', 'your', 'side', 'But', 'tomorrow', 'I', 'will', 'fly', 'From', 'the', 'deepest', 'ocean', 'To', 'the', 'highest', 'peak', 'Through', 'the', 'frontiers', 'of', 'your', 'sleep', 'Into', 'the', 'valley', 'where', 'we', 'dare', 'not', 'speak', 'To', 'be', 'by', 'your', 'side', 'Across', 'the', 'endless', 'wilderness', 'where', 'all', 'the', 'beasts', 'bow', 'down', 'their', 'heads', 'Darling', 'I', 'will', 'never', 'rest', 'till', 'I', 'am', 'by', 'your', 'side', 'Every', 'mile', 'and', 'every', 'year', 'Time', 'and', 'Distance', 'disappear', 'I', 'cannot', 'explain', 'this', 'Dear', 'No', 'I', 'will', 'not', 'even', 'try', 'And', 'I', 'know', 'just', 'one', 'thing', 'Love', 'comes', 'on', 'a', 'wing', 'and', 'tonight', 'I', 'will', 'be', 'by', 'your', 'side', 'But', 'tomorrow', 'I', 'will', 'fly', 'away', 'Love', 'rises', 'with', 'the', 'day', 'and', 'tonight', 'I', 'may', 'be', 'by', 'your', 'side', 'But', 'tomorrow', 'I', 'will', 'fly', 'Tomorrow', 'I', 'will', 'fly', 'Tomorrow', 'I', 'will', 'fly']\n"
     ]
    }
   ],
   "source": [
    "print(d.split(\" \"))"
   ]
  },
  {
   "cell_type": "code",
   "execution_count": 15,
   "metadata": {},
   "outputs": [
    {
     "name": "stdout",
     "output_type": "stream",
     "text": [
      "18\n"
     ]
    }
   ],
   "source": [
    "#请问有多少个单词“I”\n"
   ]
  },
  {
   "cell_type": "code",
   "execution_count": 21,
   "metadata": {},
   "outputs": [
    {
     "name": "stdout",
     "output_type": "stream",
     "text": [
      "20\n"
     ]
    }
   ],
   "source": [
    "print(a.count(\"I\"))"
   ]
  },
  {
   "cell_type": "code",
   "execution_count": 16,
   "metadata": {},
   "outputs": [
    {
     "name": "stdout",
     "output_type": "stream",
     "text": [
      "5\n"
     ]
    }
   ],
   "source": [
    "#请问有多少个单词\"fly\"\n"
   ]
  },
  {
   "cell_type": "code",
   "execution_count": 22,
   "metadata": {},
   "outputs": [
    {
     "name": "stdout",
     "output_type": "stream",
     "text": [
      "5\n"
     ]
    }
   ],
   "source": [
    "print(a.count(\"fly\"))"
   ]
  },
  {
   "cell_type": "code",
   "execution_count": 19,
   "metadata": {},
   "outputs": [
    {
     "name": "stdout",
     "output_type": "stream",
     "text": [
      "Across __ oceans Across __ seas, Over forests of blackened trees. Through valleys so still we dare not breathe, To be by your side. Over __ shifting desert plains, Across mountains all in flames. Through howling winds and driving rains, To be by your side. Every mile and every year for every one a little tear. I cannot explain this, Dear, I will not even try. Into __ night as __ stars collide, Across __ borders that divide forests of stone standing petrified, To be by your side. Every mile and every year, For every one a single tear. I cannot explain this, Dear, I will not even try. For I know one thing, Love comes on a wing. For tonight I will be by your side. But tomorrow I will fly. From __ deepest ocean To __ highest peak, Through __ frontiers of your sleep. Into __ valley where we dare not speak, To be by your side. Across __ endless wilderness where all __ beasts bow down their heads. Darling I will never rest till I am by your side. Every mile and every year, Time and Distance disappear I cannot explain this. Dear No, I will not even try. And I know just one thing, Love comes on a wing and tonight I will be by your side. But tomorrow I will fly away, Love rises with __ day and tonight I may be by your side. But tomorrow I will fly, Tomorrow I will fly, Tomorrow I will fly.\n"
     ]
    }
   ],
   "source": [
    "#把所有的单词the用下划线代替（注意breathe这样的单词里也出现了the不要也替代了）\n"
   ]
  },
  {
   "cell_type": "code",
   "execution_count": 33,
   "metadata": {},
   "outputs": [
    {
     "name": "stdout",
     "output_type": "stream",
     "text": [
      "Across the oceans Across the seas, Over forests of blackened trees. Through valleys so still we dare not breathe, To be by your side. Over the shifting desert plains, Across mountains all in flames. Through howling winds and driving rains, To be by your side. Every mile and every year for every one a little tear. I cannot explain this, Dear, I will not even try. Into the night as the stars collide, Across the borders that divide forests of stone standing petrified, To be by your side. Every mile and every year, For every one a single tear. I cannot explain this, Dear, I will not even try. For I know one thing, Love comes on a wing. For tonight I will be by your side. But tomorrow I will fly. From the deepest ocean To the highest peak, Through the frontiers of your sleep. Into the valley where we dare not speak, To be by your side. Across the endless wilderness where all the beasts bow down their heads. Darling I will never rest till I am by your side. Every mile and every year, Time and Distance disappear I cannot explain this. Dear No, I will not even try. And I know just one thing, Love comes on a wing and tonight I will be by your side. But tomorrow I will fly away, Love rises with the day and tonight I may be by your side. But tomorrow I will fly, Tomorrow I will fly, Tomorrow I will\n"
     ]
    }
   ],
   "source": [
    "s=\"\"\n",
    "n=\"\"\n",
    "for j in range(0,len(a)):\n",
    "    i=a[j]\n",
    "    if i!=\" \":\n",
    "        n+=i\n",
    "        if n == \"the\":\n",
    "            s+=\"__\"\n",
    "            continu\n",
    "    else:\n",
    "        s+=n\n",
    "        n=\" \"\n",
    "print(s)"
   ]
  }
 ],
 "metadata": {
  "kernelspec": {
   "display_name": "Python 3",
   "language": "python",
   "name": "python3"
  },
  "language_info": {
   "codemirror_mode": {
    "name": "ipython",
    "version": 3
   },
   "file_extension": ".py",
   "mimetype": "text/x-python",
   "name": "python",
   "nbconvert_exporter": "python",
   "pygments_lexer": "ipython3",
   "version": "3.7.0"
  }
 },
 "nbformat": 4,
 "nbformat_minor": 1
}
