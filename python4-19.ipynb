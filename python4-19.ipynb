{
 "cells": [
  {
   "cell_type": "markdown",
   "metadata": {},
   "source": [
    "# 回顾\n",
    "\n",
    "* 变量类型\n",
    "\n",
    "* 加减乘除运算\n",
    "\n",
    "* 逻辑运算\n",
    "\n",
    "* 条件循环:语法程序块\n",
    "\n"
   ]
  },
  {
   "cell_type": "code",
   "execution_count": null,
   "metadata": {},
   "outputs": [],
   "source": []
  },
  {
   "cell_type": "markdown",
   "metadata": {},
   "source": [
    "## 格式化输入输出\n",
    "\n",
    "* input\n",
    "* print % 整数为d,浮点数为f,字符串为s，\n",
    "* %5.3f表示一共5位数，小数点后面保留三位"
   ]
  },
  {
   "cell_type": "code",
   "execution_count": 1,
   "metadata": {},
   "outputs": [
    {
     "name": "stdout",
     "output_type": "stream",
     "text": [
      "请输入你的昵称:33\n",
      "33\n"
     ]
    },
    {
     "data": {
      "text/plain": [
       "str"
      ]
     },
     "execution_count": 1,
     "metadata": {},
     "output_type": "execute_result"
    }
   ],
   "source": [
    "tn = input(\"请输入你的昵称:\")\n",
    "print(tn)\n",
    "type(tn)#注意输入的始终都是字符串"
   ]
  },
  {
   "cell_type": "code",
   "execution_count": 2,
   "metadata": {},
   "outputs": [
    {
     "name": "stdout",
     "output_type": "stream",
     "text": [
      "9\n",
      "999\n",
      "u599\n",
      "9u5\n",
      "9+5=14\n"
     ]
    }
   ],
   "source": [
    "a=9\n",
    "b=5\n",
    "print(\"%s\"%(a))\n",
    "print(\"%s99\"%(a))\n",
    "print(\"u%s99\"%(b))\n",
    "print(\"%su%s\"%(a,b))\n",
    "print(\"%s+%s=%s\"%(a,b,a+b))"
   ]
  },
  {
   "cell_type": "code",
   "execution_count": 3,
   "metadata": {},
   "outputs": [
    {
     "name": "stdout",
     "output_type": "stream",
     "text": [
      "12.340000\n",
      "12.340\n",
      "  12.340\n",
      "u  12.340t\n"
     ]
    }
   ],
   "source": [
    "a=12.34\n",
    "print(\"%f\"%(a))\n",
    "print(\"%.3f\"%(a))\n",
    "print(\"%8.3f\"%(a))\n",
    "print(\"u%8.3ft\"%(a))"
   ]
  },
  {
   "cell_type": "markdown",
   "metadata": {},
   "source": [
    "## 函数def...return\n",
    "\n",
    "* 自定义函数的语法\n",
    "* 作用域\n",
    "* global\n",
    "* 循环return"
   ]
  },
  {
   "cell_type": "code",
   "execution_count": 8,
   "metadata": {},
   "outputs": [
    {
     "name": "stdout",
     "output_type": "stream",
     "text": [
      "12\n",
      "5\n",
      "3\n"
     ]
    }
   ],
   "source": [
    "def jia(x,y):\n",
    "    c=x+y\n",
    "    return c\n",
    "\n",
    "print(jia(8,4))\n",
    "print(jia(4,1))\n",
    "print(jia(2,1))"
   ]
  },
  {
   "cell_type": "code",
   "execution_count": 9,
   "metadata": {},
   "outputs": [
    {
     "name": "stdout",
     "output_type": "stream",
     "text": [
      "9\n"
     ]
    }
   ],
   "source": [
    "print(jia(3,6))"
   ]
  },
  {
   "cell_type": "code",
   "execution_count": 10,
   "metadata": {},
   "outputs": [
    {
     "name": "stdout",
     "output_type": "stream",
     "text": [
      "18\n"
     ]
    },
    {
     "ename": "NameError",
     "evalue": "name 'c1' is not defined",
     "output_type": "error",
     "traceback": [
      "\u001b[1;31m---------------------------------------------------------------------------\u001b[0m",
      "\u001b[1;31mNameError\u001b[0m                                 Traceback (most recent call last)",
      "\u001b[1;32m<ipython-input-10-506a100fce38>\u001b[0m in \u001b[0;36m<module>\u001b[1;34m()\u001b[0m\n\u001b[0;32m      5\u001b[0m \u001b[1;33m\u001b[0m\u001b[0m\n\u001b[0;32m      6\u001b[0m \u001b[0mprint\u001b[0m\u001b[1;33m(\u001b[0m\u001b[0mak\u001b[0m\u001b[1;33m(\u001b[0m\u001b[1;36m5\u001b[0m\u001b[1;33m)\u001b[0m\u001b[1;33m)\u001b[0m\u001b[1;33m\u001b[0m\u001b[0m\n\u001b[1;32m----> 7\u001b[1;33m \u001b[0mprint\u001b[0m\u001b[1;33m(\u001b[0m\u001b[0mc1\u001b[0m\u001b[1;33m)\u001b[0m\u001b[1;33m\u001b[0m\u001b[0m\n\u001b[0m",
      "\u001b[1;31mNameError\u001b[0m: name 'c1' is not defined"
     ]
    }
   ],
   "source": [
    "a=4\n",
    "def ak(x):\n",
    "    c1=9\n",
    "    return a+x+c1\n",
    "\n",
    "print(ak(5))\n",
    "print(c1)"
   ]
  },
  {
   "cell_type": "code",
   "execution_count": 11,
   "metadata": {},
   "outputs": [
    {
     "name": "stdout",
     "output_type": "stream",
     "text": [
      "16\n",
      "9\n"
     ]
    }
   ],
   "source": [
    "a=4\n",
    "def ak(x):\n",
    "    global c#定义c为全局变量，原则上并不推荐定义全局变量\n",
    "    c=9\n",
    "    return a+x+c\n",
    "\n",
    "print(ak(3))\n",
    "print(c)"
   ]
  },
  {
   "cell_type": "code",
   "execution_count": 12,
   "metadata": {},
   "outputs": [
    {
     "name": "stdout",
     "output_type": "stream",
     "text": [
      "x>3\n"
     ]
    }
   ],
   "source": [
    "#return本质上不仅能终止函数，而且能起到break的作业\n",
    "def ao(x):\n",
    "    for i in range(1,x):\n",
    "        if i==3:\n",
    "            return \"x>3\"\n",
    "    return \"x<4\"\n",
    "\n",
    "print(ao(5))"
   ]
  },
  {
   "cell_type": "markdown",
   "metadata": {},
   "source": [
    "## 练习一"
   ]
  },
  {
   "cell_type": "markdown",
   "metadata": {},
   "source": [
    "* 写一个函数，给定参数x，返回x^2+x-1的值"
   ]
  },
  {
   "cell_type": "code",
   "execution_count": null,
   "metadata": {},
   "outputs": [],
   "source": []
  },
  {
   "cell_type": "markdown",
   "metadata": {},
   "source": [
    "* 写一个函数，给定整数x，则输出1到x所有偶数"
   ]
  },
  {
   "cell_type": "code",
   "execution_count": null,
   "metadata": {},
   "outputs": [],
   "source": []
  },
  {
   "cell_type": "markdown",
   "metadata": {},
   "source": [
    "* 自己定义一个函数，输入任意两个数，始终返回其中大的那个数，如果相等则返回字符“相等”"
   ]
  },
  {
   "cell_type": "code",
   "execution_count": null,
   "metadata": {},
   "outputs": [],
   "source": []
  },
  {
   "cell_type": "markdown",
   "metadata": {},
   "source": [
    "## 练习二"
   ]
  },
  {
   "cell_type": "markdown",
   "metadata": {},
   "source": [
    "* 写一个函数，此函数能够返回任意两个整数的最大公约数"
   ]
  },
  {
   "cell_type": "code",
   "execution_count": null,
   "metadata": {},
   "outputs": [],
   "source": []
  },
  {
   "cell_type": "markdown",
   "metadata": {},
   "source": [
    "* 自己定义一个函数， 输入任意两个整数， 返回这两个整数的最小公倍数"
   ]
  },
  {
   "cell_type": "code",
   "execution_count": null,
   "metadata": {},
   "outputs": [],
   "source": []
  },
  {
   "cell_type": "markdown",
   "metadata": {},
   "source": [
    "## 练习三"
   ]
  },
  {
   "cell_type": "markdown",
   "metadata": {},
   "source": [
    "* 利用条件运算符来完成此题。输入（input）任意成绩，程序按照如下规则输出：学习成绩>=90分的同学用A表示，60-89分之间的用B表示，60分以下的用C表示。"
   ]
  },
  {
   "cell_type": "code",
   "execution_count": null,
   "metadata": {},
   "outputs": [],
   "source": []
  },
  {
   "cell_type": "markdown",
   "metadata": {},
   "source": [
    "* 输入a和n（用input），求s=a+aa+aaa+...na...，a表示数值，n表示数量，如a=3，n=5，则求出3+33+333+3333+33333的值（注意字符串与整数的转换）"
   ]
  },
  {
   "cell_type": "code",
   "execution_count": null,
   "metadata": {},
   "outputs": [],
   "source": []
  },
  {
   "cell_type": "markdown",
   "metadata": {},
   "source": [
    "* 打印出所有的三位数中的“水仙花数”，所谓“水仙花数”是指一个三位数，其各位数字立方和等于该数本身。例如：153是一个“水仙花数”，因为153=1^3＋5^3＋3^3的三次方。 "
   ]
  },
  {
   "cell_type": "code",
   "execution_count": null,
   "metadata": {},
   "outputs": [],
   "source": []
  },
  {
   "cell_type": "markdown",
   "metadata": {},
   "source": [
    "## 练习四"
   ]
  },
  {
   "cell_type": "markdown",
   "metadata": {},
   "source": [
    "* 求1+2!+3!+...+20!的和"
   ]
  },
  {
   "cell_type": "code",
   "execution_count": null,
   "metadata": {},
   "outputs": [],
   "source": [
    "def f(x):\n",
    "    s=1\n",
    "    for i in range(1,x+1):\n",
    "        s=s*i\n",
    "    return s\n",
    "s=0\n",
    "for i in range(1,21):\n",
    "    s=s+f(i)\n",
    "print(s)"
   ]
  },
  {
   "cell_type": "markdown",
   "metadata": {},
   "source": [
    "* 写函数，给出整数n ，返回1+2！...+n!的和"
   ]
  },
  {
   "cell_type": "code",
   "execution_count": null,
   "metadata": {},
   "outputs": [],
   "source": [
    "a=int(input())\n",
    "def f(x):\n",
    "    s=1\n",
    "    for i in range(1,x+1):\n",
    "        s=s*i\n",
    "    return s\n",
    "s=0\n",
    "for i in range(1,a+1):\n",
    "    s=s+f(i)\n",
    "print(s)"
   ]
  },
  {
   "cell_type": "code",
   "execution_count": 13,
   "metadata": {},
   "outputs": [
    {
     "data": {
      "image/png": "[encoded data removed]",
      "text/plain": [
       "<IPython.core.display.Image object>"
      ]
     },
     "execution_count": 13,
     "metadata": {},
     "output_type": "execute_result"
    }
   ],
   "source": [
    "from IPython.display import Image\n",
    "Image(\"1123.png\")"
   ]
  },
  {
   "cell_type": "code",
   "execution_count": 19,
   "metadata": {},
   "outputs": [
    {
     "name": "stdout",
     "output_type": "stream",
     "text": [
      "4\n",
      "4\n",
      "0 1 9\n",
      "0 2 18\n",
      "0 3 27\n",
      "0 4 36\n",
      "1 0 12\n",
      "1 1 21\n",
      "1 2 30\n",
      "1 3 39\n",
      "2 0 24\n",
      "2 1 33\n",
      "2 2 42\n",
      "3 0 36\n",
      "3 1 45\n",
      "4 0 48\n",
      "14\n",
      "48\n"
     ]
    }
   ],
   "source": [
    "#1) \n",
    "print(int(20/4 if (20/4)<(8/2) else 8/2))\n",
    "print(int(20/5 if (20/5)<(8/1) else 8/1))\n",
    "#3)\n",
    "#sum=利润，a=生产的产品A，b=生产的产品B，s=可能情况数量,g=产品规格\n",
    "a=0\n",
    "b=0\n",
    "s=0\n",
    "i=0\n",
    "sum=0\n",
    "def f(x,y):\n",
    "    k=0\n",
    "    if x>y:\n",
    "        k=y\n",
    "    else:\n",
    "        k=x\n",
    "    return k\n",
    "for g1 in range(0,5):\n",
    "    a=g1*4\n",
    "    b=g1*2\n",
    "    i=int(f((20-a)//5,8-b))\n",
    "    for g2 in range(0,i+1):\n",
    "        sum=g1*12+g2*9\n",
    "        if g1!=0 or g2!=0:\n",
    "            s=s+1\n",
    "            print(g1,g2,sum)\n",
    "#2)\n",
    "print(s)"
   ]
  }
 ],
 "metadata": {
  "kernelspec": {
   "display_name": "Python 3",
   "language": "python",
   "name": "python3"
  },
  "language_info": {
   "codemirror_mode": {
    "name": "ipython",
    "version": 3
   },
   "file_extension": ".py",
   "mimetype": "text/x-python",
   "name": "python",
   "nbconvert_exporter": "python",
   "pygments_lexer": "ipython3",
   "version": "3.7.0"
  }
 },
 "nbformat": 4,
 "nbformat_minor": 2
}
