{
 "cells": [
  {
   "cell_type": "markdown",
   "metadata": {},
   "source": [
    "# 对于非计算机专业同学编程学习的一个原则\n",
    "\n",
    "* 用尽量少的学习，完成尽量多的任务\n",
    "\n",
    "* 编程语法内容够用就好，一步一个脚印的学习，虽然扎实，但是知识爆炸的年代，蛙跳式学习会更好"
   ]
  },
  {
   "cell_type": "markdown",
   "metadata": {},
   "source": [
    "# 计数与统计"
   ]
  },
  {
   "cell_type": "markdown",
   "metadata": {},
   "source": [
    "* count()函数"
   ]
  },
  {
   "cell_type": "code",
   "execution_count": 1,
   "metadata": {},
   "outputs": [
    {
     "name": "stdout",
     "output_type": "stream",
     "text": [
      "2\n"
     ]
    }
   ],
   "source": [
    "h=[3,4,2,1,1,6,2]\n",
    "print(h.count(2))"
   ]
  },
  {
   "cell_type": "code",
   "execution_count": 2,
   "metadata": {},
   "outputs": [
    {
     "name": "stdout",
     "output_type": "stream",
     "text": [
      "3\n"
     ]
    }
   ],
   "source": [
    "h=\"wisnergwasgdw\"\n",
    "print(h.count(\"w\"))"
   ]
  },
  {
   "cell_type": "markdown",
   "metadata": {},
   "source": [
    "* 集合与去重"
   ]
  },
  {
   "cell_type": "code",
   "execution_count": 4,
   "metadata": {
    "scrolled": true
   },
   "outputs": [
    {
     "name": "stdout",
     "output_type": "stream",
     "text": [
      "{'w', 'g', 'm', 'p', 'a', 'n', 'e'}\n"
     ]
    }
   ],
   "source": [
    "h=\"wangpengennnnnnnnnnnnmmmm\"\n",
    "print(set(h))"
   ]
  },
  {
   "cell_type": "markdown",
   "metadata": {},
   "source": [
    "## 课间题\n",
    "\n",
    "* 已知字符串a=\"Over forests of blackened trees. Through valleys so still we dare not breathe\"。\n",
    "\n",
    "1，求这个字符串有多少个不同的字符？\n",
    "\n",
    "2，请计算字符“s”出现了多少次？"
   ]
  },
  {
   "cell_type": "code",
   "execution_count": 7,
   "metadata": {},
   "outputs": [
    {
     "name": "stdout",
     "output_type": "stream",
     "text": [
      "24\n"
     ]
    }
   ],
   "source": []
  },
  {
   "cell_type": "code",
   "execution_count": 5,
   "metadata": {},
   "outputs": [
    {
     "data": {
      "text/plain": [
       "6"
      ]
     },
     "execution_count": 5,
     "metadata": {},
     "output_type": "execute_result"
    }
   ],
   "source": []
  },
  {
   "cell_type": "markdown",
   "metadata": {},
   "source": [
    "* 构建列表与构建字典"
   ]
  },
  {
   "cell_type": "code",
   "execution_count": 5,
   "metadata": {},
   "outputs": [
    {
     "name": "stdout",
     "output_type": "stream",
     "text": [
      "[2, 5, 10, 17]\n"
     ]
    }
   ],
   "source": [
    "h=[]\n",
    "for i in range(1,5):\n",
    "    h.append(i**2+1)\n",
    "print(h)"
   ]
  },
  {
   "cell_type": "code",
   "execution_count": 6,
   "metadata": {},
   "outputs": [
    {
     "name": "stdout",
     "output_type": "stream",
     "text": [
      "1\n"
     ]
    }
   ],
   "source": [
    "a=\"21\"\n",
    "print(a.count(\"1\"))"
   ]
  },
  {
   "cell_type": "code",
   "execution_count": 8,
   "metadata": {},
   "outputs": [
    {
     "name": "stdout",
     "output_type": "stream",
     "text": [
      "{0: 0, 1: 1, 2: 4, 3: 9, 4: 16, 5: 25}\n"
     ]
    }
   ],
   "source": [
    "h={}\n",
    "for i in range(0,6):\n",
    "    h.update({i:i**2})\n",
    "print(h)"
   ]
  },
  {
   "cell_type": "code",
   "execution_count": 12,
   "metadata": {},
   "outputs": [
    {
     "name": "stdout",
     "output_type": "stream",
     "text": [
      "a 1\n",
      "b 1\n",
      "s 2\n",
      "c 2\n",
      "c 2\n",
      "s 2\n",
      "w 1\n",
      "____\n",
      "w 1\n",
      "c 2\n",
      "b 1\n",
      "a 1\n",
      "s 2\n"
     ]
    }
   ],
   "source": [
    "a=\"absccsw\"\n",
    "for i in a:\n",
    "    print(i,a.count(i))\n",
    "    \n",
    "print(\"____\")\n",
    "\n",
    "for i in set(a):\n",
    "    print(i,a.count(i))"
   ]
  },
  {
   "cell_type": "markdown",
   "metadata": {},
   "source": [
    "* 基于字符串，集合，字典的循环"
   ]
  },
  {
   "cell_type": "code",
   "execution_count": 14,
   "metadata": {},
   "outputs": [
    {
     "name": "stdout",
     "output_type": "stream",
     "text": [
      "w\n",
      "w\n",
      "w\n",
      "s\n",
      "d\n",
      "g\n"
     ]
    }
   ],
   "source": [
    "h=\"wwwsdg\"\n",
    "for i in h:\n",
    "    print(i)"
   ]
  },
  {
   "cell_type": "code",
   "execution_count": 10,
   "metadata": {},
   "outputs": [
    {
     "name": "stdout",
     "output_type": "stream",
     "text": [
      "1\n",
      "2\n",
      "5\n",
      "6\n"
     ]
    }
   ],
   "source": [
    "h=set([1,2,6,1,2,5,1])\n",
    "for i in h:\n",
    "    print(i)"
   ]
  },
  {
   "cell_type": "code",
   "execution_count": 14,
   "metadata": {},
   "outputs": [
    {
     "name": "stdout",
     "output_type": "stream",
     "text": [
      "0 0\n",
      "1 1\n",
      "2 4\n",
      "3 9\n",
      "4 16\n",
      "5 25\n"
     ]
    }
   ],
   "source": [
    "h={0: 0, 1: 1, 2: 4, 3: 9, 4: 16, 5: 25}\n",
    "for i in h.keys():\n",
    "    print(i,h[i])"
   ]
  },
  {
   "cell_type": "code",
   "execution_count": 15,
   "metadata": {},
   "outputs": [
    {
     "name": "stdout",
     "output_type": "stream",
     "text": [
      "0 0\n",
      "1 1\n",
      "2 4\n",
      "3 9\n",
      "4 16\n",
      "5 25\n"
     ]
    }
   ],
   "source": [
    "h={0: 0, 1: 1, 2: 4, 3: 9, 4: 16, 5: 25}\n",
    "for i,j in h.items():\n",
    "    print(i,j)"
   ]
  },
  {
   "cell_type": "code",
   "execution_count": 2,
   "metadata": {},
   "outputs": [
    {
     "name": "stdout",
     "output_type": "stream",
     "text": [
      "{1: 7}\n"
     ]
    }
   ],
   "source": [
    "a={1:4}\n",
    "a.update({1:7})\n",
    "print a"
   ]
  },
  {
   "cell_type": "code",
   "execution_count": 16,
   "metadata": {},
   "outputs": [
    {
     "name": "stdout",
     "output_type": "stream",
     "text": [
      "{1: 3, 2: 2, 3: 1, 4: 2}\n"
     ]
    }
   ],
   "source": [
    "a=[3,2,4,1,2,4,1,1]\n",
    "d={}\n",
    "for i in set(a):\n",
    "    d.update({i:a.count(i)})\n",
    "print(d)"
   ]
  },
  {
   "cell_type": "markdown",
   "metadata": {},
   "source": [
    "## 课间题\n",
    "\n",
    "已知字符串a=\"Over forests of blackened trees. Through valleys so still we dare not breathe\"。\n",
    "\n",
    "3，请一字符为键，字符出现的次数为值构建一个字典（使用count）"
   ]
  },
  {
   "cell_type": "code",
   "execution_count": 13,
   "metadata": {},
   "outputs": [
    {
     "name": "stdout",
     "output_type": "stream",
     "text": [
      "{'r': 6, 'O': 1, ' ': 12, 'l': 5, 'w': 1, 'i': 1, 'f': 2, 'u': 1, 'n': 2, 'd': 2, 'T': 1, 'c': 1, 'b': 2, 'k': 1, 'g': 1, 'y': 1, 'o': 5, 'e': 11, 'v': 2, 't': 5, 'a': 4, 'h': 3, '.': 1, 's': 6}\n"
     ]
    }
   ],
   "source": []
  },
  {
   "cell_type": "markdown",
   "metadata": {},
   "source": [
    "# 字典的get方法与计数"
   ]
  },
  {
   "cell_type": "code",
   "execution_count": 17,
   "metadata": {},
   "outputs": [
    {
     "name": "stdout",
     "output_type": "stream",
     "text": [
      "1\n",
      "1 1 5\n",
      "None\n"
     ]
    },
    {
     "ename": "KeyError",
     "evalue": "1",
     "output_type": "error",
     "traceback": [
      "\u001b[1;31m---------------------------------------------------------------------------\u001b[0m",
      "\u001b[1;31mKeyError\u001b[0m                                  Traceback (most recent call last)",
      "\u001b[1;32m<ipython-input-17-14acca38e575>\u001b[0m in \u001b[0;36m<module>\u001b[1;34m()\u001b[0m\n\u001b[0;32m      3\u001b[0m \u001b[0mprint\u001b[0m\u001b[1;33m(\u001b[0m\u001b[0ma\u001b[0m\u001b[1;33m.\u001b[0m\u001b[0mget\u001b[0m\u001b[1;33m(\u001b[0m\u001b[1;36m4\u001b[0m\u001b[1;33m)\u001b[0m\u001b[1;33m,\u001b[0m\u001b[0ma\u001b[0m\u001b[1;33m.\u001b[0m\u001b[0mget\u001b[0m\u001b[1;33m(\u001b[0m\u001b[1;36m4\u001b[0m\u001b[1;33m,\u001b[0m\u001b[1;36m0\u001b[0m\u001b[1;33m)\u001b[0m\u001b[1;33m,\u001b[0m\u001b[0ma\u001b[0m\u001b[1;33m.\u001b[0m\u001b[0mget\u001b[0m\u001b[1;33m(\u001b[0m\u001b[1;36m1\u001b[0m\u001b[1;33m,\u001b[0m\u001b[1;36m5\u001b[0m\u001b[1;33m)\u001b[0m\u001b[1;33m)\u001b[0m\u001b[1;33m\u001b[0m\u001b[0m\n\u001b[0;32m      4\u001b[0m \u001b[0mprint\u001b[0m\u001b[1;33m(\u001b[0m\u001b[0ma\u001b[0m\u001b[1;33m.\u001b[0m\u001b[0mget\u001b[0m\u001b[1;33m(\u001b[0m\u001b[1;36m1\u001b[0m\u001b[1;33m)\u001b[0m\u001b[1;33m)\u001b[0m\u001b[1;33m\u001b[0m\u001b[0m\n\u001b[1;32m----> 5\u001b[1;33m \u001b[0mprint\u001b[0m\u001b[1;33m(\u001b[0m\u001b[0ma\u001b[0m\u001b[1;33m[\u001b[0m\u001b[1;36m1\u001b[0m\u001b[1;33m]\u001b[0m\u001b[1;33m)\u001b[0m\u001b[1;33m\u001b[0m\u001b[0m\n\u001b[0m",
      "\u001b[1;31mKeyError\u001b[0m: 1"
     ]
    }
   ],
   "source": [
    "a={4:1}\n",
    "print(a[4])\n",
    "print(a.get(4),a.get(4,0),a.get(1,5))\n",
    "print(a.get(1))\n",
    "print(a[1])"
   ]
  },
  {
   "cell_type": "code",
   "execution_count": 19,
   "metadata": {},
   "outputs": [
    {
     "name": "stdout",
     "output_type": "stream",
     "text": [
      "{1: 4, 4: 5, 2: 3}\n"
     ]
    }
   ],
   "source": [
    "a={1:4,4:1}\n",
    "a[4]=5\n",
    "#a.update({4:5})\n",
    "a[2]=3\n",
    "print(a)"
   ]
  },
  {
   "cell_type": "code",
   "execution_count": 20,
   "metadata": {},
   "outputs": [
    {
     "name": "stdout",
     "output_type": "stream",
     "text": [
      "{1: 3, 2: 2, 4: 5}\n"
     ]
    }
   ],
   "source": [
    "a={1:2,2:2}\n",
    "a[1]=a.get(1)+1\n",
    "a[4]=a.get(4,2)+3\n",
    "print(a)"
   ]
  },
  {
   "cell_type": "code",
   "execution_count": 22,
   "metadata": {},
   "outputs": [
    {
     "name": "stdout",
     "output_type": "stream",
     "text": [
      "{2: 3, 4: 1, 1: 1, 3: 2}\n"
     ]
    }
   ],
   "source": [
    "c=[2,2,4,2,1,3,3]\n",
    "d={}\n",
    "for i in c:\n",
    "    d[i]=d.get(i,0)+1\n",
    "print(d)"
   ]
  },
  {
   "cell_type": "code",
   "execution_count": null,
   "metadata": {},
   "outputs": [],
   "source": []
  },
  {
   "cell_type": "markdown",
   "metadata": {},
   "source": [
    "## 课间题\n",
    "\n",
    "已知字符串a=\"Over forests of blackened trees. Through valleys so still we dare not breathe\"。\n",
    "\n",
    "3，请一字符为键，字符出现的次数为值构建一个字典（使用get方法）"
   ]
  },
  {
   "cell_type": "code",
   "execution_count": 42,
   "metadata": {},
   "outputs": [
    {
     "name": "stdout",
     "output_type": "stream",
     "text": [
      "{' ': 12, '.': 1, 'O': 1, 'T': 1, 'a': 4, 'c': 1, 'b': 2, 'e': 11, 'd': 2, 'g': 1, 'f': 2, 'i': 1, 'h': 3, 'k': 1, 'l': 5, 'o': 5, 'n': 2, 's': 6, 'r': 6, 'u': 1, 't': 5, 'w': 1, 'v': 2, 'y': 1}\n"
     ]
    }
   ],
   "source": []
  },
  {
   "cell_type": "markdown",
   "metadata": {},
   "source": [
    "# 异常处理\n",
    "\n",
    "* try...except\n",
    "\n",
    "* 异常处理与计数"
   ]
  },
  {
   "cell_type": "code",
   "execution_count": 23,
   "metadata": {},
   "outputs": [
    {
     "name": "stdout",
     "output_type": "stream",
     "text": [
      "5\n",
      "ww\n"
     ]
    }
   ],
   "source": [
    "a={1:5,5:0}\n",
    "try:\n",
    "    print(5)\n",
    "    print(a[2])\n",
    "    print(9)\n",
    "except:\n",
    "    print(\"ww\")"
   ]
  },
  {
   "cell_type": "code",
   "execution_count": 24,
   "metadata": {},
   "outputs": [
    {
     "ename": "KeyError",
     "evalue": "3",
     "output_type": "error",
     "traceback": [
      "\u001b[1;31m---------------------------------------------------------------------------\u001b[0m",
      "\u001b[1;31mKeyError\u001b[0m                                  Traceback (most recent call last)",
      "\u001b[1;32m<ipython-input-24-8ce9d7d3cacd>\u001b[0m in \u001b[0;36m<module>\u001b[1;34m()\u001b[0m\n\u001b[0;32m      1\u001b[0m \u001b[0ma\u001b[0m\u001b[1;33m=\u001b[0m\u001b[1;33m{\u001b[0m\u001b[1;36m2\u001b[0m\u001b[1;33m:\u001b[0m\u001b[1;36m4\u001b[0m\u001b[1;33m}\u001b[0m\u001b[1;33m\u001b[0m\u001b[0m\n\u001b[0;32m      2\u001b[0m \u001b[0ma\u001b[0m\u001b[1;33m[\u001b[0m\u001b[1;36m1\u001b[0m\u001b[1;33m]\u001b[0m\u001b[1;33m=\u001b[0m\u001b[1;36m4\u001b[0m\u001b[1;33m\u001b[0m\u001b[0m\n\u001b[1;32m----> 3\u001b[1;33m \u001b[0ma\u001b[0m\u001b[1;33m[\u001b[0m\u001b[1;36m3\u001b[0m\u001b[1;33m]\u001b[0m\u001b[1;33m=\u001b[0m\u001b[0ma\u001b[0m\u001b[1;33m[\u001b[0m\u001b[1;36m3\u001b[0m\u001b[1;33m]\u001b[0m\u001b[1;33m+\u001b[0m\u001b[1;36m3\u001b[0m\u001b[1;33m\u001b[0m\u001b[0m\n\u001b[0m\u001b[0;32m      4\u001b[0m \u001b[0mprint\u001b[0m\u001b[1;33m(\u001b[0m\u001b[0ma\u001b[0m\u001b[1;33m)\u001b[0m\u001b[1;33m\u001b[0m\u001b[0m\n",
      "\u001b[1;31mKeyError\u001b[0m: 3"
     ]
    }
   ],
   "source": [
    "a={2:4}\n",
    "a[1]=4\n",
    "a[3]=a[3]+3\n",
    "print(a)"
   ]
  },
  {
   "cell_type": "code",
   "execution_count": 25,
   "metadata": {},
   "outputs": [
    {
     "name": "stdout",
     "output_type": "stream",
     "text": [
      "{3: 2, 5: 1, 2: 2, 4: 1}\n"
     ]
    }
   ],
   "source": [
    "a=[3,5,2,2,3,4]\n",
    "b={}\n",
    "for i in a:\n",
    "    try:\n",
    "        b[i]=b[i]+1\n",
    "    except:\n",
    "        b[i]=1\n",
    "print(b)"
   ]
  },
  {
   "cell_type": "markdown",
   "metadata": {},
   "source": [
    "## 课间题\n",
    "\n",
    "已知字符串a=\"Over forests of blackened trees. Through valleys so still we dare not breathe\"。\n",
    "\n",
    "3，请一字符为键，字符出现的次数为值构建一个字典（使用try...except方法）\n",
    "\n",
    "4，请输出这个字符串中出现频次最高的字符"
   ]
  },
  {
   "cell_type": "code",
   "execution_count": 10,
   "metadata": {},
   "outputs": [
    {
     "name": "stdout",
     "output_type": "stream",
     "text": [
      "Overforestsofblackenedtrees.Throughvalleyssostillwedarenotbreathe\n",
      "{'.': 1, 'O': 1, 'T': 1, 'a': 4, 'c': 1, 'b': 2, 'e': 11, 'd': 2, 'g': 1, 'f': 2, 'i': 1, 'h': 3, 'k': 1, 'l': 5, 'o': 5, 'n': 2, 's': 6, 'r': 6, 'u': 1, 't': 5, 'w': 1, 'v': 2, 'y': 1}\n"
     ]
    }
   ],
   "source": []
  },
  {
   "cell_type": "code",
   "execution_count": 27,
   "metadata": {},
   "outputs": [
    {
     "name": "stdout",
     "output_type": "stream",
     "text": [
      "11\n",
      "e\n"
     ]
    }
   ],
   "source": []
  },
  {
   "cell_type": "markdown",
   "metadata": {},
   "source": [
    "列表，集合，字典的应用：简单文本统计\n",
    "---\n",
    "\n",
    "* 注意保留题目的结果，很多运算时基于前面题目的结果的"
   ]
  },
  {
   "cell_type": "code",
   "execution_count": 1,
   "metadata": {},
   "outputs": [
    {
     "name": "stdout",
     "output_type": "stream",
     "text": [
      "Across the oceans Across the seas, Over forests of blackened trees. Through valleys so still we dare not breathe, To be by your side. Over the shifting desert plains, Across mountains all in flames. Through howling winds and driving rains, To be by your side. Every mile and every year for every one a little tear. I cannot explain this, Dear, I will not even try. Into the night as the stars collide, Across the borders that divide forests of stone standing petrified, To be by your side. Every mile and every year, For every one a single tear. I cannot explain this, Dear, I will not even try. For I know one thing, Love comes on a wing. For tonight I will be by your side. But tomorrow I will fly. From the deepest ocean To the highest peak, Through the frontiers of your sleep. Into the valley where we dare not speak, To be by your side. Across the endless wilderness where all the beasts bow down their heads. Darling I will never rest till I am by your side. Every mile and every year, Time and Distance disappear I cannot explain this. Dear No, I will not even try. And I know just one thing, Love comes on a wing and tonight I will be by your side. But tomorrow I will fly away, Love rises with the day and tonight I may be by your side. But tomorrow I will fly, Tomorrow I will fly, Tomorrow I will fly.\n"
     ]
    }
   ],
   "source": [
    "#首先运行如下命令，把歌词作为一个字符串赋值给a\n",
    "a=\"Across the oceans Across the seas, Over forests of blackened trees. Through valleys so still we dare not breathe, To be by your side. Over the shifting desert plains, Across mountains all in flames. Through howling winds and driving rains, To be by your side. Every mile and every year for every one a little tear. I cannot explain this, Dear, I will not even try. Into the night as the stars collide, Across the borders that divide forests of stone standing petrified, To be by your side. Every mile and every year, For every one a single tear. I cannot explain this, Dear, I will not even try. For I know one thing, Love comes on a wing. For tonight I will be by your side. But tomorrow I will fly. From the deepest ocean To the highest peak, Through the frontiers of your sleep. Into the valley where we dare not speak, To be by your side. Across the endless wilderness where all the beasts bow down their heads. Darling I will never rest till I am by your side. Every mile and every year, Time and Distance disappear I cannot explain this. Dear No, I will not even try. And I know just one thing, Love comes on a wing and tonight I will be by your side. But tomorrow I will fly away, Love rises with the day and tonight I may be by your side. But tomorrow I will fly, Tomorrow I will fly, Tomorrow I will fly.\"\n",
    "print a"
   ]
  },
  {
   "cell_type": "code",
   "execution_count": 14,
   "metadata": {},
   "outputs": [
    {
     "name": "stdout",
     "output_type": "stream",
     "text": [
      "1313\n"
     ]
    }
   ],
   "source": [
    "#计算a的字符数"
   ]
  },
  {
   "cell_type": "code",
   "execution_count": null,
   "metadata": {},
   "outputs": [],
   "source": []
  },
  {
   "cell_type": "code",
   "execution_count": 25,
   "metadata": {},
   "outputs": [
    {
     "name": "stdout",
     "output_type": "stream",
     "text": [
      "  252\n",
      ", 20\n",
      ". 21\n",
      "A 6\n",
      "B 3\n",
      "E 3\n",
      "D 5\n",
      "F 4\n",
      "I 20\n",
      "L 3\n",
      "O 2\n",
      "N 1\n",
      "T 11\n",
      "a 57\n",
      "c 15\n",
      "b 20\n",
      "e 127\n",
      "d 35\n",
      "g 18\n",
      "f 15\n",
      "i 66\n",
      "h 39\n",
      "k 5\n",
      "j 1\n",
      "m 16\n",
      "l 58\n",
      "o 85\n",
      "n 66\n",
      "p 11\n",
      "s 66\n",
      "r 77\n",
      "u 17\n",
      "t 72\n",
      "w 31\n",
      "v 21\n",
      "y 41\n",
      "x 3\n"
     ]
    }
   ],
   "source": [
    "#分行输出a中不同字符，及其出现的次数"
   ]
  },
  {
   "cell_type": "code",
   "execution_count": null,
   "metadata": {},
   "outputs": [],
   "source": []
  },
  {
   "cell_type": "code",
   "execution_count": 26,
   "metadata": {},
   "outputs": [
    {
     "name": "stdout",
     "output_type": "stream",
     "text": [
      "{'A': 6, 'B': 3, 'E': 3, 'D': 5, 'F': 4, 'I': 20, 'L': 3, 'O': 2, 'N': 1, 'T': 11, 'n': 66, 'l': 58, 'a': 57, ' ': 252, 'c': 15, 'b': 20, 'e': 127, 'd': 35, 'g': 18, 'f': 15, 'i': 66, 'h': 39, 'k': 5, 'j': 1, 'm': 16, ',': 20, 'o': 85, '.': 21, 'p': 11, 's': 66, 'r': 77, 'u': 17, 't': 72, 'w': 31, 'v': 21, 'y': 41, 'x': 3}\n"
     ]
    }
   ],
   "source": [
    "#用字符为键，出现次数为值构建字典，并输出"
   ]
  },
  {
   "cell_type": "code",
   "execution_count": null,
   "metadata": {},
   "outputs": [],
   "source": []
  },
  {
   "cell_type": "code",
   "execution_count": 37,
   "metadata": {},
   "outputs": [
    {
     "name": "stdout",
     "output_type": "stream",
     "text": [
      "n 66\n",
      "l 58\n",
      "a 57\n",
      "  252\n",
      "e 127\n",
      "d 35\n",
      "i 66\n",
      "h 39\n",
      "o 85\n",
      ". 21\n",
      "s 66\n",
      "r 77\n",
      "t 72\n",
      "w 31\n",
      "v 21\n",
      "y 41\n"
     ]
    }
   ],
   "source": [
    "#输出所有出现次数大于20的字符及其次数"
   ]
  },
  {
   "cell_type": "code",
   "execution_count": null,
   "metadata": {},
   "outputs": [],
   "source": []
  },
  {
   "cell_type": "code",
   "execution_count": 41,
   "metadata": {},
   "outputs": [
    {
     "name": "stdout",
     "output_type": "stream",
     "text": [
      "A 6\n",
      "B 3\n",
      "E 3\n",
      "D 5\n",
      "F 4\n",
      "I 20\n",
      "L 3\n",
      "O 2\n",
      "N 1\n",
      "T 11\n"
     ]
    }
   ],
   "source": [
    "#输出所有大写字符出现的次数\n",
    "#提示：任意大写字符小于任意小写字符，大于所有标点，标点中最大的为“.”"
   ]
  },
  {
   "cell_type": "code",
   "execution_count": null,
   "metadata": {},
   "outputs": [],
   "source": []
  },
  {
   "cell_type": "code",
   "execution_count": 39,
   "metadata": {},
   "outputs": [
    {
     "name": "stdout",
     "output_type": "stream",
     "text": [
      "58\n"
     ]
    }
   ],
   "source": [
    "#求出所有大写字符出现的次数和"
   ]
  },
  {
   "cell_type": "code",
   "execution_count": null,
   "metadata": {},
   "outputs": [],
   "source": []
  },
  {
   "cell_type": "code",
   "execution_count": 46,
   "metadata": {},
   "outputs": [
    {
     "name": "stdout",
     "output_type": "stream",
     "text": [
      "['Across', 'the', 'oceans', 'Across', 'the', 'seas', 'Over', 'forests', 'of', 'blackened', 'trees', 'Through', 'valleys', 'so', 'still', 'we', 'dare', 'not', 'breathe', 'To', 'be', 'by', 'your', 'side', 'Over', 'the', 'shifting', 'desert', 'plains', 'Across', 'mountains', 'all', 'in', 'flames', 'Through', 'howling', 'winds', 'and', 'driving', 'rains', 'To', 'be', 'by', 'your', 'side', 'Every', 'mile', 'and', 'every', 'year', 'for', 'every', 'one', 'a', 'little', 'tear', 'I', 'cannot', 'explain', 'this', 'Dear', 'I', 'will', 'not', 'even', 'try', 'Into', 'the', 'night', 'as', 'the', 'stars', 'collide', 'Across', 'the', 'borders', 'that', 'divide', 'forests', 'of', 'stone', 'standing', 'petrified', 'To', 'be', 'by', 'your', 'side', 'Every', 'mile', 'and', 'every', 'year', 'For', 'every', 'one', 'a', 'single', 'tear', 'I', 'cannot', 'explain', 'this', 'Dear', 'I', 'will', 'not', 'even', 'try', 'For', 'I', 'know', 'one', 'thing', 'Love', 'comes', 'on', 'a', 'wing', 'For', 'tonight', 'I', 'will', 'be', 'by', 'your', 'side', 'But', 'tomorrow', 'I', 'will', 'fly', 'From', 'the', 'deepest', 'ocean', 'To', 'the', 'highest', 'peak', 'Through', 'the', 'frontiers', 'of', 'your', 'sleep', 'Into', 'the', 'valley', 'where', 'we', 'dare', 'not', 'speak', 'To', 'be', 'by', 'your', 'side', 'Across', 'the', 'endless', 'wilderness', 'where', 'all', 'the', 'beasts', 'bow', 'down', 'their', 'heads', 'Darling', 'I', 'will', 'never', 'rest', 'till', 'I', 'am', 'by', 'your', 'side', 'Every', 'mile', 'and', 'every', 'year', 'Time', 'and', 'Distance', 'disappear', 'I', 'cannot', 'explain', 'this', 'Dear', 'No', 'I', 'will', 'not', 'even', 'try', 'And', 'I', 'know', 'just', 'one', 'thing', 'Love', 'comes', 'on', 'a', 'wing', 'and', 'tonight', 'I', 'will', 'be', 'by', 'your', 'side', 'But', 'tomorrow', 'I', 'will', 'fly', 'away', 'Love', 'rises', 'with', 'the', 'day', 'and', 'tonight', 'I', 'may', 'be', 'by', 'your', 'side', 'But', 'tomorrow', 'I', 'will', 'fly', 'Tomorrow', 'I', 'will', 'fly', 'Tomorrow', 'I', 'will', 'fly']\n"
     ]
    }
   ],
   "source": [
    "#把文本的内容以单词为单位构建列表"
   ]
  },
  {
   "cell_type": "code",
   "execution_count": 9,
   "metadata": {},
   "outputs": [
    {
     "name": "stdout",
     "output_type": "stream",
     "text": [
      "['Across', 'the', 'oceans', 'Across', 'the', 'seas', 'Over', 'forests', 'of', 'blackened', 'trees', 'Through', 'valleys', 'so', 'still', 'we', 'dare', 'not', 'breathe', 'To', 'be', 'by', 'your', 'side', 'Over', 'the', 'shifting', 'desert', 'plains', 'Across', 'mountains', 'all', 'in', 'flames', 'Through', 'howling', 'winds', 'and', 'driving', 'rains', 'To', 'be', 'by', 'your', 'side', 'Every', 'mile', 'and', 'every', 'year', 'for', 'every', 'one', 'a', 'little', 'tear', 'I', 'cannot', 'explain', 'this', 'Dear', 'I', 'will', 'not', 'even', 'try', 'Into', 'the', 'night', 'as', 'the', 'stars', 'collide', 'Across', 'the', 'borders', 'that', 'divide', 'forests', 'of', 'stone', 'standing', 'petrified', 'To', 'be', 'by', 'your', 'side', 'Every', 'mile', 'and', 'every', 'year', 'For', 'every', 'one', 'a', 'single', 'tear', 'I', 'cannot', 'explain', 'this', 'Dear', 'I', 'will', 'not', 'even', 'try', 'For', 'I', 'know', 'one', 'thing', 'Love', 'comes', 'on', 'a', 'wing', 'For', 'tonight', 'I', 'will', 'be', 'by', 'your', 'side', 'But', 'tomorrow', 'I', 'will', 'fly', 'From', 'the', 'deepest', 'ocean', 'To', 'the', 'highest', 'peak', 'Through', 'the', 'frontiers', 'of', 'your', 'sleep', 'Into', 'the', 'valley', 'where', 'we', 'dare', 'not', 'speak', 'To', 'be', 'by', 'your', 'side', 'Across', 'the', 'endless', 'wilderness', 'where', 'all', 'the', 'beasts', 'bow', 'down', 'their', 'heads', 'Darling', 'I', 'will', 'never', 'rest', 'till', 'I', 'am', 'by', 'your', 'side', 'Every', 'mile', 'and', 'every', 'year', 'Time', 'and', 'Distance', 'disappear', 'I', 'cannot', 'explain', 'this', 'Dear', 'No', 'I', 'will', 'not', 'even', 'try', 'And', 'I', 'know', 'just', 'one', 'thing', 'Love', 'comes', 'on', 'a', 'wing', 'and', 'tonight', 'I', 'will', 'be', 'by', 'your', 'side', 'But', 'tomorrow', 'I', 'will', 'fly', 'away', 'Love', 'rises', 'with', 'the', 'day', 'and', 'tonight', 'I', 'may', 'be', 'by', 'your', 'side', 'But', 'tomorrow', 'I', 'will', 'fly', 'Tomorrow', 'I', 'will', 'fly', 'Tomorrow', 'I', 'will', 'fly']\n"
     ]
    }
   ],
   "source": [
    "a=\"Across the oceans Across the seas, Over forests of blackened trees. Through valleys so still we dare not breathe, To be by your side. Over the shifting desert plains, Across mountains all in flames. Through howling winds and driving rains, To be by your side. Every mile and every year for every one a little tear. I cannot explain this, Dear, I will not even try. Into the night as the stars collide, Across the borders that divide forests of stone standing petrified, To be by your side. Every mile and every year, For every one a single tear. I cannot explain this, Dear, I will not even try. For I know one thing, Love comes on a wing. For tonight I will be by your side. But tomorrow I will fly. From the deepest ocean To the highest peak, Through the frontiers of your sleep. Into the valley where we dare not speak, To be by your side. Across the endless wilderness where all the beasts bow down their heads. Darling I will never rest till I am by your side. Every mile and every year, Time and Distance disappear I cannot explain this. Dear No, I will not even try. And I know just one thing, Love comes on a wing and tonight I will be by your side. But tomorrow I will fly away, Love rises with the day and tonight I may be by your side. But tomorrow I will fly, Tomorrow I will fly, Tomorrow I will fly.\"\n",
    "b=a.replace(\",\",\"\")\n",
    "b=b.replace(\".\",\"\")\n",
    "c=list(map(str,b.split()))\n",
    "print(c)"
   ]
  },
  {
   "cell_type": "code",
   "execution_count": 50,
   "metadata": {},
   "outputs": [
    {
     "name": "stdout",
     "output_type": "stream",
     "text": [
      "{'all': 2, 'divide': 1, 'just': 1, 'No': 1, 'rest': 1, 'one': 4, 'down': 1, 'mile': 3, 'sleep': 1, 'blackened': 1, 'winds': 1, 'still': 1, 'tomorrow': 3, 'speak': 1, 'standing': 1, 'I': 18, 'little': 1, 'heads': 1, 'wilderness': 1, 'their': 1, 'explain': 3, 'But': 3, 'desert': 1, 'plains': 1, 'Every': 3, 'deepest': 1, 'stars': 1, 'Tomorrow': 2, 'borders': 1, 'valley': 1, 'breathe': 1, 'mountains': 1, 'that': 1, 'oceans': 1, 'collide': 1, 'trees': 1, 'cannot': 3, 'every': 5, 'know': 2, 'Time': 1, 'not': 5, 'highest': 1, 'with': 1, 'day': 1, 'dare': 2, 'endless': 1, 'fly': 5, 'petrified': 1, 'Love': 3, 'To': 5, 'this': 3, 'Into': 2, 'as': 1, 'will': 11, 'tear': 2, 'night': 1, 'where': 2, 'Over': 2, 'and': 7, 'valleys': 1, 'From': 1, 'For': 3, 'Distance': 1, 'seas': 1, 'in': 1, 'am': 1, 'tonight': 3, 'howling': 1, 'single': 1, 'year': 3, 'Darling': 1, 'ocean': 1, 'disappear': 1, 'even': 3, 'try': 3, 'driving': 1, 'rains': 1, 'away': 1, 'forests': 2, 'Across': 5, 'till': 1, 'frontiers': 1, 'so': 1, 'side': 8, 'be': 7, 'we': 2, 'And': 1, 'may': 1, 'beasts': 1, 'never': 1, 'shifting': 1, 'peak': 1, 'rises': 1, 'by': 8, 'a': 4, 'on': 2, 'stone': 1, 'your': 9, 'for': 1, 'flames': 1, 'of': 3, 'bow': 1, 'thing': 2, 'Through': 3, 'Dear': 3, 'the': 13, 'wing': 2, 'comes': 2}\n"
     ]
    }
   ],
   "source": [
    "#以单词为键，出现次数为值构建字典（开头字母大写的看成不同的单词）"
   ]
  },
  {
   "cell_type": "code",
   "execution_count": 13,
   "metadata": {},
   "outputs": [
    {
     "name": "stdout",
     "output_type": "stream",
     "text": [
      "{'Across': 5, 'the': 13, 'oceans': 1, 'seas': 1, 'Over': 2, 'forests': 2, 'of': 3, 'blackened': 1, 'trees': 1, 'Through': 3, 'valleys': 1, 'so': 1, 'still': 1, 'we': 2, 'dare': 2, 'not': 5, 'breathe': 1, 'To': 5, 'be': 7, 'by': 8, 'your': 9, 'side': 8, 'shifting': 1, 'desert': 1, 'plains': 1, 'mountains': 1, 'all': 2, 'in': 1, 'flames': 1, 'howling': 1, 'winds': 1, 'and': 7, 'driving': 1, 'rains': 1, 'Every': 3, 'mile': 3, 'every': 5, 'year': 3, 'for': 1, 'one': 4, 'a': 4, 'little': 1, 'tear': 2, 'I': 18, 'cannot': 3, 'explain': 3, 'this': 3, 'Dear': 3, 'will': 11, 'even': 3, 'try': 3, 'Into': 2, 'night': 1, 'as': 1, 'stars': 1, 'collide': 1, 'borders': 1, 'that': 1, 'divide': 1, 'stone': 1, 'standing': 1, 'petrified': 1, 'For': 3, 'single': 1, 'know': 2, 'thing': 2, 'Love': 3, 'comes': 2, 'on': 2, 'wing': 2, 'tonight': 3, 'But': 3, 'tomorrow': 3, 'fly': 5, 'From': 1, 'deepest': 1, 'ocean': 1, 'highest': 1, 'peak': 1, 'frontiers': 1, 'sleep': 1, 'valley': 1, 'where': 2, 'speak': 1, 'endless': 1, 'wilderness': 1, 'beasts': 1, 'bow': 1, 'down': 1, 'their': 1, 'heads': 1, 'Darling': 1, 'never': 1, 'rest': 1, 'till': 1, 'am': 1, 'Time': 1, 'Distance': 1, 'disappear': 1, 'No': 1, 'And': 1, 'just': 1, 'away': 1, 'rises': 1, 'with': 1, 'day': 1, 'may': 1, 'Tomorrow': 2}\n"
     ]
    }
   ],
   "source": [
    "d={}\n",
    "for i in c:\n",
    "    d[i]=d.get(i,0)+1\n",
    "print(d)"
   ]
  },
  {
   "cell_type": "code",
   "execution_count": 64,
   "metadata": {},
   "outputs": [
    {
     "name": "stdout",
     "output_type": "stream",
     "text": [
      "{1: ['divide', 'just', 'No', 'rest', 'down', 'sleep', 'blackened', 'winds', 'still', 'speak', 'standing', 'little', 'heads', 'wilderness', 'their', 'desert', 'plains', 'deepest', 'stars', 'borders', 'valley', 'breathe', 'mountains', 'that', 'oceans', 'collide', 'trees', 'Time', 'highest', 'with', 'day', 'endless', 'petrified', 'as', 'night', 'valleys', 'From', 'Distance', 'seas', 'in', 'am', 'howling', 'single', 'Darling', 'ocean', 'disappear', 'driving', 'rains', 'away', 'till', 'frontiers', 'so', 'And', 'may', 'beasts', 'never', 'shifting', 'peak', 'rises', 'stone', 'for', 'flames', 'bow'], 2: ['all', 'Tomorrow', 'know', 'dare', 'Into', 'tear', 'where', 'Over', 'forests', 'we', 'on', 'thing', 'wing', 'comes'], 3: ['mile', 'tomorrow', 'explain', 'But', 'Every', 'cannot', 'Love', 'this', 'For', 'tonight', 'year', 'even', 'try', 'of', 'Through', 'Dear'], 4: ['one', 'a'], 5: ['every', 'not', 'fly', 'To', 'Across'], 7: ['and', 'be'], 8: ['side', 'by'], 9: ['your'], 11: ['will'], 13: ['the'], 18: ['I']}\n"
     ]
    }
   ],
   "source": [
    "#基于上题的结果，以出现次数为键，以对应的单词为元素构建一个字典\n",
    "#提示：先生成一个出现次数为键的空字典：{1: [], 2: [], 3: [], 4: [], 5: [], 7: [], 8: [], 9: [], 11: [], 13: [], 18: []}\n",
    "#然后再把出现对应次数的单词加进去"
   ]
  },
  {
   "cell_type": "code",
   "execution_count": 15,
   "metadata": {},
   "outputs": [
    {
     "name": "stdout",
     "output_type": "stream",
     "text": [
      "{1: ['oceans', 'seas', 'blackened', 'trees', 'valleys', 'so', 'still', 'breathe', 'shifting', 'desert', 'plains', 'mountains', 'in', 'flames', 'howling', 'winds', 'driving', 'rains', 'for', 'little', 'night', 'as', 'stars', 'collide', 'borders', 'that', 'divide', 'stone', 'standing', 'petrified', 'single', 'From', 'deepest', 'ocean', 'highest', 'peak', 'frontiers', 'sleep', 'valley', 'speak', 'endless', 'wilderness', 'beasts', 'bow', 'down', 'their', 'heads', 'Darling', 'never', 'rest', 'till', 'am', 'Time', 'Distance', 'disappear', 'No', 'And', 'just', 'away', 'rises', 'with', 'day', 'may'], 2: ['Over', 'forests', 'we', 'dare', 'all', 'tear', 'Into', 'know', 'thing', 'comes', 'on', 'wing', 'where', 'Tomorrow'], 3: ['of', 'Through', 'Every', 'mile', 'year', 'cannot', 'explain', 'this', 'Dear', 'even', 'try', 'For', 'Love', 'tonight', 'But', 'tomorrow'], 4: ['one', 'a'], 5: ['Across', 'not', 'To', 'every', 'fly'], 7: ['be', 'and'], 8: ['by', 'side'], 9: ['your'], 11: ['will'], 13: ['the'], 18: ['I']}\n"
     ]
    }
   ],
   "source": [
    "m={1: [], 2: [], 3: [], 4: [], 5: [], 7: [], 8: [], 9: [], 11: [], 13: [], 18: []}\n",
    "for i in m.keys():\n",
    "    for j in d.keys():\n",
    "        if d[j]==i:\n",
    "            m[i]=m[i]+[j]\n",
    "print(m)\n",
    "    "
   ]
  }
 ],
 "metadata": {
  "kernelspec": {
   "display_name": "Python 3",
   "language": "python",
   "name": "python3"
  },
  "language_info": {
   "codemirror_mode": {
    "name": "ipython",
    "version": 3
   },
   "file_extension": ".py",
   "mimetype": "text/x-python",
   "name": "python",
   "nbconvert_exporter": "python",
   "pygments_lexer": "ipython3",
   "version": "3.7.0"
  }
 },
 "nbformat": 4,
 "nbformat_minor": 1
}
